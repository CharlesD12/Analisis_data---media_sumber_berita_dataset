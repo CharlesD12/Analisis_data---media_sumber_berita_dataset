{
  "nbformat": 4,
  "nbformat_minor": 0,
  "metadata": {
    "colab": {
      "provenance": []
    },
    "kernelspec": {
      "name": "python3",
      "display_name": "Python 3"
    },
    "language_info": {
      "name": "python"
    }
  },
  "cells": [
    {
      "cell_type": "markdown",
      "source": [
        "# **Proyek Analisis Data Media Sumber Berita**\n"
      ],
      "metadata": {
        "id": "dLFH2lAAhiGX"
      }
    },
    {
      "cell_type": "markdown",
      "source": [
        "*   Nama              : Charles Dometian\n",
        "*   Email             : charles.dometian@gmail.com\n",
        "\n",
        "\n"
      ],
      "metadata": {
        "id": "_c2bdBNKiQFi"
      }
    },
    {
      "cell_type": "markdown",
      "source": [
        "# **Menentukan pertanyaan yang ingin dianalisis**"
      ],
      "metadata": {
        "id": "XSs-Vuw-zAH9"
      }
    },
    {
      "cell_type": "markdown",
      "source": [
        "\n",
        "*   sourceMedium apa yang memberikan kontribusi terbesar dalam periklanan?\n",
        "*   Bagaimana demografi pageTitle pada halaman website?\n",
        "*   pageTitle apa yang memiliki Rasio pentalan tertinggi?\n",
        "*   Apakah terdapat korelasi antara Rasio_pentalan dengan avgOnTimePage\n",
        "*   Apakah terdapat korelasi antara users dengan pageview?\n",
        "\n",
        "\n",
        "\n",
        "\n"
      ],
      "metadata": {
        "id": "JIY1BEKCDOoe"
      }
    },
    {
      "cell_type": "markdown",
      "source": [
        "# **Import semua packages/library yang digunakan**"
      ],
      "metadata": {
        "id": "SpyaNv2Ez440"
      }
    },
    {
      "cell_type": "code",
      "source": [
        "import numpy as np\n",
        "import pandas as pd\n",
        "import matplotlib.pyplot as plt\n",
        "import seaborn as sns"
      ],
      "metadata": {
        "id": "N5eTmhOzz5yj"
      },
      "execution_count": null,
      "outputs": []
    },
    {
      "cell_type": "markdown",
      "source": [
        "# **Data Wrangling**"
      ],
      "metadata": {
        "id": "H21h87P30S8O"
      }
    },
    {
      "cell_type": "markdown",
      "source": [
        "### **Gathering Data**\n",
        "\n",
        "Tahap ini merupakan proses pengumpulan data untuk menjawab pertanyaan yang ingin dianalis. Pada analsis ini, hanya terdapat satu dataset saja yaitu Media Sumber Berita dataset. Format file ini nantinya akan dibaca menggunakan pandas"
      ],
      "metadata": {
        "id": "u9bF18em0ZwH"
      }
    },
    {
      "cell_type": "code",
      "execution_count": null,
      "metadata": {
        "id": "w4D08w4faJc-",
        "colab": {
          "base_uri": "https://localhost:8080/",
          "height": 424
        },
        "outputId": "ffaa6dec-dd02-4b16-eb02-75d3725dd28e"
      },
      "outputs": [
        {
          "output_type": "execute_result",
          "data": {
            "text/plain": [
              "    ga:sourceMedium                                       ga:pageTitle  \\\n",
              "0    facebook / cpc  Bikin Lambe Turah Diomelin, Nih Si Seksi yang ...   \n",
              "1    facebook / cpc  Heboh! Kiki Farel Transfer Uang Jajan Rp 1 Jut...   \n",
              "2    facebook / cpc  Tak Sesuai Harapan, Barang Belanja Online Ini ...   \n",
              "3    facebook / cpc            Antar 'Tuyul', 7 Pengemudi Grab Dibekuk   \n",
              "4    facebook / cpc        Melihat Kantor Pelayanan Grab Driver Center   \n",
              "..              ...                                                ...   \n",
              "151  facebook / cpc          Edan, Ponsel Ini Punya Baterai 13.000 mAh   \n",
              "152  facebook / cpc   Gempa Keras di Jakarta Terasa Lebih dari 1 Menit   \n",
              "153  facebook / cpc           Jennifer Dunn dan Deretan Mobil Mewahnya   \n",
              "154  facebook / cpc           Kasus Salah Baca Xiaomi Terulang Kembali   \n",
              "155  facebook / cpc                            Netizen Ramai Teriakkan   \n",
              "\n",
              "     ga:users  ga:bounceRate  ga:pageviews  ga:pageviewsPerSession  \\\n",
              "0     13736.0      19.269967       83593.0                6.042140   \n",
              "1     15909.0      62.303763       74032.0                4.612011   \n",
              "2      7748.0      30.934520       54657.0                6.949396   \n",
              "3     43893.0       6.966219       47924.0                1.106560   \n",
              "4     41155.0      11.630219       44072.0               43.809145   \n",
              "..        ...            ...           ...                     ...   \n",
              "151     198.0      76.923077         215.0                1.837607   \n",
              "152     180.0      20.000000         215.0                2.388889   \n",
              "153     180.0     100.000000         215.0               23.888889   \n",
              "154     180.0      83.333333         215.0                1.990741   \n",
              "155       NaN            NaN           NaN                     NaN   \n",
              "\n",
              "     ga:avgTimeOnPage  \n",
              "0           21.790189  \n",
              "1           16.330553  \n",
              "2           21.429338  \n",
              "3            5.056397  \n",
              "4          180.944233  \n",
              "..                ...  \n",
              "151        101.685393  \n",
              "152        233.640000  \n",
              "153         97.836735  \n",
              "154        178.449438  \n",
              "155               NaN  \n",
              "\n",
              "[156 rows x 7 columns]"
            ],
            "text/html": [
              "\n",
              "  <div id=\"df-f3cb94b6-fd59-4a80-93c9-c9c5b35f3a4f\" class=\"colab-df-container\">\n",
              "    <div>\n",
              "<style scoped>\n",
              "    .dataframe tbody tr th:only-of-type {\n",
              "        vertical-align: middle;\n",
              "    }\n",
              "\n",
              "    .dataframe tbody tr th {\n",
              "        vertical-align: top;\n",
              "    }\n",
              "\n",
              "    .dataframe thead th {\n",
              "        text-align: right;\n",
              "    }\n",
              "</style>\n",
              "<table border=\"1\" class=\"dataframe\">\n",
              "  <thead>\n",
              "    <tr style=\"text-align: right;\">\n",
              "      <th></th>\n",
              "      <th>ga:sourceMedium</th>\n",
              "      <th>ga:pageTitle</th>\n",
              "      <th>ga:users</th>\n",
              "      <th>ga:bounceRate</th>\n",
              "      <th>ga:pageviews</th>\n",
              "      <th>ga:pageviewsPerSession</th>\n",
              "      <th>ga:avgTimeOnPage</th>\n",
              "    </tr>\n",
              "  </thead>\n",
              "  <tbody>\n",
              "    <tr>\n",
              "      <th>0</th>\n",
              "      <td>facebook / cpc</td>\n",
              "      <td>Bikin Lambe Turah Diomelin, Nih Si Seksi yang ...</td>\n",
              "      <td>13736.0</td>\n",
              "      <td>19.269967</td>\n",
              "      <td>83593.0</td>\n",
              "      <td>6.042140</td>\n",
              "      <td>21.790189</td>\n",
              "    </tr>\n",
              "    <tr>\n",
              "      <th>1</th>\n",
              "      <td>facebook / cpc</td>\n",
              "      <td>Heboh! Kiki Farel Transfer Uang Jajan Rp 1 Jut...</td>\n",
              "      <td>15909.0</td>\n",
              "      <td>62.303763</td>\n",
              "      <td>74032.0</td>\n",
              "      <td>4.612011</td>\n",
              "      <td>16.330553</td>\n",
              "    </tr>\n",
              "    <tr>\n",
              "      <th>2</th>\n",
              "      <td>facebook / cpc</td>\n",
              "      <td>Tak Sesuai Harapan, Barang Belanja Online Ini ...</td>\n",
              "      <td>7748.0</td>\n",
              "      <td>30.934520</td>\n",
              "      <td>54657.0</td>\n",
              "      <td>6.949396</td>\n",
              "      <td>21.429338</td>\n",
              "    </tr>\n",
              "    <tr>\n",
              "      <th>3</th>\n",
              "      <td>facebook / cpc</td>\n",
              "      <td>Antar 'Tuyul', 7 Pengemudi Grab Dibekuk</td>\n",
              "      <td>43893.0</td>\n",
              "      <td>6.966219</td>\n",
              "      <td>47924.0</td>\n",
              "      <td>1.106560</td>\n",
              "      <td>5.056397</td>\n",
              "    </tr>\n",
              "    <tr>\n",
              "      <th>4</th>\n",
              "      <td>facebook / cpc</td>\n",
              "      <td>Melihat Kantor Pelayanan Grab Driver Center</td>\n",
              "      <td>41155.0</td>\n",
              "      <td>11.630219</td>\n",
              "      <td>44072.0</td>\n",
              "      <td>43.809145</td>\n",
              "      <td>180.944233</td>\n",
              "    </tr>\n",
              "    <tr>\n",
              "      <th>...</th>\n",
              "      <td>...</td>\n",
              "      <td>...</td>\n",
              "      <td>...</td>\n",
              "      <td>...</td>\n",
              "      <td>...</td>\n",
              "      <td>...</td>\n",
              "      <td>...</td>\n",
              "    </tr>\n",
              "    <tr>\n",
              "      <th>151</th>\n",
              "      <td>facebook / cpc</td>\n",
              "      <td>Edan, Ponsel Ini Punya Baterai 13.000 mAh</td>\n",
              "      <td>198.0</td>\n",
              "      <td>76.923077</td>\n",
              "      <td>215.0</td>\n",
              "      <td>1.837607</td>\n",
              "      <td>101.685393</td>\n",
              "    </tr>\n",
              "    <tr>\n",
              "      <th>152</th>\n",
              "      <td>facebook / cpc</td>\n",
              "      <td>Gempa Keras di Jakarta Terasa Lebih dari 1 Menit</td>\n",
              "      <td>180.0</td>\n",
              "      <td>20.000000</td>\n",
              "      <td>215.0</td>\n",
              "      <td>2.388889</td>\n",
              "      <td>233.640000</td>\n",
              "    </tr>\n",
              "    <tr>\n",
              "      <th>153</th>\n",
              "      <td>facebook / cpc</td>\n",
              "      <td>Jennifer Dunn dan Deretan Mobil Mewahnya</td>\n",
              "      <td>180.0</td>\n",
              "      <td>100.000000</td>\n",
              "      <td>215.0</td>\n",
              "      <td>23.888889</td>\n",
              "      <td>97.836735</td>\n",
              "    </tr>\n",
              "    <tr>\n",
              "      <th>154</th>\n",
              "      <td>facebook / cpc</td>\n",
              "      <td>Kasus Salah Baca Xiaomi Terulang Kembali</td>\n",
              "      <td>180.0</td>\n",
              "      <td>83.333333</td>\n",
              "      <td>215.0</td>\n",
              "      <td>1.990741</td>\n",
              "      <td>178.449438</td>\n",
              "    </tr>\n",
              "    <tr>\n",
              "      <th>155</th>\n",
              "      <td>facebook / cpc</td>\n",
              "      <td>Netizen Ramai Teriakkan</td>\n",
              "      <td>NaN</td>\n",
              "      <td>NaN</td>\n",
              "      <td>NaN</td>\n",
              "      <td>NaN</td>\n",
              "      <td>NaN</td>\n",
              "    </tr>\n",
              "  </tbody>\n",
              "</table>\n",
              "<p>156 rows × 7 columns</p>\n",
              "</div>\n",
              "    <div class=\"colab-df-buttons\">\n",
              "\n",
              "  <div class=\"colab-df-container\">\n",
              "    <button class=\"colab-df-convert\" onclick=\"convertToInteractive('df-f3cb94b6-fd59-4a80-93c9-c9c5b35f3a4f')\"\n",
              "            title=\"Convert this dataframe to an interactive table.\"\n",
              "            style=\"display:none;\">\n",
              "\n",
              "  <svg xmlns=\"http://www.w3.org/2000/svg\" height=\"24px\" viewBox=\"0 -960 960 960\">\n",
              "    <path d=\"M120-120v-720h720v720H120Zm60-500h600v-160H180v160Zm220 220h160v-160H400v160Zm0 220h160v-160H400v160ZM180-400h160v-160H180v160Zm440 0h160v-160H620v160ZM180-180h160v-160H180v160Zm440 0h160v-160H620v160Z\"/>\n",
              "  </svg>\n",
              "    </button>\n",
              "\n",
              "  <style>\n",
              "    .colab-df-container {\n",
              "      display:flex;\n",
              "      gap: 12px;\n",
              "    }\n",
              "\n",
              "    .colab-df-convert {\n",
              "      background-color: #E8F0FE;\n",
              "      border: none;\n",
              "      border-radius: 50%;\n",
              "      cursor: pointer;\n",
              "      display: none;\n",
              "      fill: #1967D2;\n",
              "      height: 32px;\n",
              "      padding: 0 0 0 0;\n",
              "      width: 32px;\n",
              "    }\n",
              "\n",
              "    .colab-df-convert:hover {\n",
              "      background-color: #E2EBFA;\n",
              "      box-shadow: 0px 1px 2px rgba(60, 64, 67, 0.3), 0px 1px 3px 1px rgba(60, 64, 67, 0.15);\n",
              "      fill: #174EA6;\n",
              "    }\n",
              "\n",
              "    .colab-df-buttons div {\n",
              "      margin-bottom: 4px;\n",
              "    }\n",
              "\n",
              "    [theme=dark] .colab-df-convert {\n",
              "      background-color: #3B4455;\n",
              "      fill: #D2E3FC;\n",
              "    }\n",
              "\n",
              "    [theme=dark] .colab-df-convert:hover {\n",
              "      background-color: #434B5C;\n",
              "      box-shadow: 0px 1px 3px 1px rgba(0, 0, 0, 0.15);\n",
              "      filter: drop-shadow(0px 1px 2px rgba(0, 0, 0, 0.3));\n",
              "      fill: #FFFFFF;\n",
              "    }\n",
              "  </style>\n",
              "\n",
              "    <script>\n",
              "      const buttonEl =\n",
              "        document.querySelector('#df-f3cb94b6-fd59-4a80-93c9-c9c5b35f3a4f button.colab-df-convert');\n",
              "      buttonEl.style.display =\n",
              "        google.colab.kernel.accessAllowed ? 'block' : 'none';\n",
              "\n",
              "      async function convertToInteractive(key) {\n",
              "        const element = document.querySelector('#df-f3cb94b6-fd59-4a80-93c9-c9c5b35f3a4f');\n",
              "        const dataTable =\n",
              "          await google.colab.kernel.invokeFunction('convertToInteractive',\n",
              "                                                    [key], {});\n",
              "        if (!dataTable) return;\n",
              "\n",
              "        const docLinkHtml = 'Like what you see? Visit the ' +\n",
              "          '<a target=\"_blank\" href=https://colab.research.google.com/notebooks/data_table.ipynb>data table notebook</a>'\n",
              "          + ' to learn more about interactive tables.';\n",
              "        element.innerHTML = '';\n",
              "        dataTable['output_type'] = 'display_data';\n",
              "        await google.colab.output.renderOutput(dataTable, element);\n",
              "        const docLink = document.createElement('div');\n",
              "        docLink.innerHTML = docLinkHtml;\n",
              "        element.appendChild(docLink);\n",
              "      }\n",
              "    </script>\n",
              "  </div>\n",
              "\n",
              "\n",
              "<div id=\"df-2462cd33-1e67-4fb6-a867-420822e765cb\">\n",
              "  <button class=\"colab-df-quickchart\" onclick=\"quickchart('df-2462cd33-1e67-4fb6-a867-420822e765cb')\"\n",
              "            title=\"Suggest charts\"\n",
              "            style=\"display:none;\">\n",
              "\n",
              "<svg xmlns=\"http://www.w3.org/2000/svg\" height=\"24px\"viewBox=\"0 0 24 24\"\n",
              "     width=\"24px\">\n",
              "    <g>\n",
              "        <path d=\"M19 3H5c-1.1 0-2 .9-2 2v14c0 1.1.9 2 2 2h14c1.1 0 2-.9 2-2V5c0-1.1-.9-2-2-2zM9 17H7v-7h2v7zm4 0h-2V7h2v10zm4 0h-2v-4h2v4z\"/>\n",
              "    </g>\n",
              "</svg>\n",
              "  </button>\n",
              "\n",
              "<style>\n",
              "  .colab-df-quickchart {\n",
              "      --bg-color: #E8F0FE;\n",
              "      --fill-color: #1967D2;\n",
              "      --hover-bg-color: #E2EBFA;\n",
              "      --hover-fill-color: #174EA6;\n",
              "      --disabled-fill-color: #AAA;\n",
              "      --disabled-bg-color: #DDD;\n",
              "  }\n",
              "\n",
              "  [theme=dark] .colab-df-quickchart {\n",
              "      --bg-color: #3B4455;\n",
              "      --fill-color: #D2E3FC;\n",
              "      --hover-bg-color: #434B5C;\n",
              "      --hover-fill-color: #FFFFFF;\n",
              "      --disabled-bg-color: #3B4455;\n",
              "      --disabled-fill-color: #666;\n",
              "  }\n",
              "\n",
              "  .colab-df-quickchart {\n",
              "    background-color: var(--bg-color);\n",
              "    border: none;\n",
              "    border-radius: 50%;\n",
              "    cursor: pointer;\n",
              "    display: none;\n",
              "    fill: var(--fill-color);\n",
              "    height: 32px;\n",
              "    padding: 0;\n",
              "    width: 32px;\n",
              "  }\n",
              "\n",
              "  .colab-df-quickchart:hover {\n",
              "    background-color: var(--hover-bg-color);\n",
              "    box-shadow: 0 1px 2px rgba(60, 64, 67, 0.3), 0 1px 3px 1px rgba(60, 64, 67, 0.15);\n",
              "    fill: var(--button-hover-fill-color);\n",
              "  }\n",
              "\n",
              "  .colab-df-quickchart-complete:disabled,\n",
              "  .colab-df-quickchart-complete:disabled:hover {\n",
              "    background-color: var(--disabled-bg-color);\n",
              "    fill: var(--disabled-fill-color);\n",
              "    box-shadow: none;\n",
              "  }\n",
              "\n",
              "  .colab-df-spinner {\n",
              "    border: 2px solid var(--fill-color);\n",
              "    border-color: transparent;\n",
              "    border-bottom-color: var(--fill-color);\n",
              "    animation:\n",
              "      spin 1s steps(1) infinite;\n",
              "  }\n",
              "\n",
              "  @keyframes spin {\n",
              "    0% {\n",
              "      border-color: transparent;\n",
              "      border-bottom-color: var(--fill-color);\n",
              "      border-left-color: var(--fill-color);\n",
              "    }\n",
              "    20% {\n",
              "      border-color: transparent;\n",
              "      border-left-color: var(--fill-color);\n",
              "      border-top-color: var(--fill-color);\n",
              "    }\n",
              "    30% {\n",
              "      border-color: transparent;\n",
              "      border-left-color: var(--fill-color);\n",
              "      border-top-color: var(--fill-color);\n",
              "      border-right-color: var(--fill-color);\n",
              "    }\n",
              "    40% {\n",
              "      border-color: transparent;\n",
              "      border-right-color: var(--fill-color);\n",
              "      border-top-color: var(--fill-color);\n",
              "    }\n",
              "    60% {\n",
              "      border-color: transparent;\n",
              "      border-right-color: var(--fill-color);\n",
              "    }\n",
              "    80% {\n",
              "      border-color: transparent;\n",
              "      border-right-color: var(--fill-color);\n",
              "      border-bottom-color: var(--fill-color);\n",
              "    }\n",
              "    90% {\n",
              "      border-color: transparent;\n",
              "      border-bottom-color: var(--fill-color);\n",
              "    }\n",
              "  }\n",
              "</style>\n",
              "\n",
              "  <script>\n",
              "    async function quickchart(key) {\n",
              "      const quickchartButtonEl =\n",
              "        document.querySelector('#' + key + ' button');\n",
              "      quickchartButtonEl.disabled = true;  // To prevent multiple clicks.\n",
              "      quickchartButtonEl.classList.add('colab-df-spinner');\n",
              "      try {\n",
              "        const charts = await google.colab.kernel.invokeFunction(\n",
              "            'suggestCharts', [key], {});\n",
              "      } catch (error) {\n",
              "        console.error('Error during call to suggestCharts:', error);\n",
              "      }\n",
              "      quickchartButtonEl.classList.remove('colab-df-spinner');\n",
              "      quickchartButtonEl.classList.add('colab-df-quickchart-complete');\n",
              "    }\n",
              "    (() => {\n",
              "      let quickchartButtonEl =\n",
              "        document.querySelector('#df-2462cd33-1e67-4fb6-a867-420822e765cb button');\n",
              "      quickchartButtonEl.style.display =\n",
              "        google.colab.kernel.accessAllowed ? 'block' : 'none';\n",
              "    })();\n",
              "  </script>\n",
              "</div>\n",
              "\n",
              "    </div>\n",
              "  </div>\n"
            ],
            "application/vnd.google.colaboratory.intrinsic+json": {
              "type": "dataframe",
              "variable_name": "data_df",
              "summary": "{\n  \"name\": \"data_df\",\n  \"rows\": 156,\n  \"fields\": [\n    {\n      \"column\": \"ga:sourceMedium\",\n      \"properties\": {\n        \"dtype\": \"category\",\n        \"num_unique_values\": 2,\n        \"samples\": [\n          \"google / cpc\",\n          \"facebook / cpc\"\n        ],\n        \"semantic_type\": \"\",\n        \"description\": \"\"\n      }\n    },\n    {\n      \"column\": \"ga:pageTitle\",\n      \"properties\": {\n        \"dtype\": \"string\",\n        \"num_unique_values\": 151,\n        \"samples\": [\n          \"Aroma Latin di Old Trafford\",\n          \"Begini Gaya Nyentrik Pasha 'Ungu' yang Menuai Kontroversi\"\n        ],\n        \"semantic_type\": \"\",\n        \"description\": \"\"\n      }\n    },\n    {\n      \"column\": \"ga:users\",\n      \"properties\": {\n        \"dtype\": \"number\",\n        \"std\": 6449.314678718674,\n        \"min\": 9.0,\n        \"max\": 43893.0,\n        \"num_unique_values\": 75,\n        \"samples\": [\n          41155.0,\n          45.0\n        ],\n        \"semantic_type\": \"\",\n        \"description\": \"\"\n      }\n    },\n    {\n      \"column\": \"ga:bounceRate\",\n      \"properties\": {\n        \"dtype\": \"number\",\n        \"std\": 36.03018354828287,\n        \"min\": 0.0,\n        \"max\": 100.0,\n        \"num_unique_values\": 48,\n        \"samples\": [\n          83.30522766,\n          64.54183267\n        ],\n        \"semantic_type\": \"\",\n        \"description\": \"\"\n      }\n    },\n    {\n      \"column\": \"ga:pageviews\",\n      \"properties\": {\n        \"dtype\": \"number\",\n        \"std\": 11845.050363709317,\n        \"min\": 215.0,\n        \"max\": 83593.0,\n        \"num_unique_values\": 89,\n        \"samples\": [\n          700.0,\n          602.0\n        ],\n        \"semantic_type\": \"\",\n        \"description\": \"\"\n      }\n    },\n    {\n      \"column\": \"ga:pageviewsPerSession\",\n      \"properties\": {\n        \"dtype\": \"number\",\n        \"std\": 32.52291628039694,\n        \"min\": 0.0,\n        \"max\": 268.8333333,\n        \"num_unique_values\": 107,\n        \"samples\": [\n          16.94444444,\n          1.073741181\n        ],\n        \"semantic_type\": \"\",\n        \"description\": \"\"\n      }\n    },\n    {\n      \"column\": \"ga:avgTimeOnPage\",\n      \"properties\": {\n        \"dtype\": \"number\",\n        \"std\": 77.97525855443503,\n        \"min\": 2.814914645,\n        \"max\": 449.8971963,\n        \"num_unique_values\": 155,\n        \"samples\": [\n          110.27897,\n          24.60714286\n        ],\n        \"semantic_type\": \"\",\n        \"description\": \"\"\n      }\n    }\n  ]\n}"
            }
          },
          "metadata": {},
          "execution_count": 2
        }
      ],
      "source": [
        "# Memuat tabel Media Sumber Berita\n",
        "data_df = pd.read_csv(\"Media Sumber Berita.csv\", delimiter=\",\")\n",
        "\n",
        "data_df.head(157)"
      ]
    },
    {
      "cell_type": "code",
      "source": [
        "# Mengubah nama kolom untuk mempermudah proses analisis\n",
        "data_analisis_df = data_df.rename(columns={\n",
        "    'ga:sourceMedium': 'sourceMedium',\n",
        "    'ga:pageTitle': 'pageTitle',\n",
        "    'ga:users': 'users',\n",
        "    'ga:bounceRate': 'bounceRate',\n",
        "    'ga:pageviews': 'pageviews',\n",
        "    'ga:pageviewsPerSession': 'pageviewsPerSession',\n",
        "    'ga:avgTimeOnPage': 'avgTimeOnPage'\n",
        "})\n",
        "\n",
        "# Pilih kolom dengan nama yang sesuai setelah rename\n",
        "data_analisis_baru_df = data_analisis_df[['sourceMedium', 'pageTitle', 'users', 'bounceRate', 'pageviews', 'pageviewsPerSession', 'avgTimeOnPage']]\n",
        "\n",
        "# Tampilkan head dari data_analisis_df\n",
        "data_analisis_baru_df.head(157)"
      ],
      "metadata": {
        "colab": {
          "base_uri": "https://localhost:8080/",
          "height": 424
        },
        "id": "KW_8V5k4bMI0",
        "outputId": "f8965b8b-3dac-4287-b670-e2012584ae0b"
      },
      "execution_count": null,
      "outputs": [
        {
          "output_type": "execute_result",
          "data": {
            "text/plain": [
              "       sourceMedium                                          pageTitle  \\\n",
              "0    facebook / cpc  Bikin Lambe Turah Diomelin, Nih Si Seksi yang ...   \n",
              "1    facebook / cpc  Heboh! Kiki Farel Transfer Uang Jajan Rp 1 Jut...   \n",
              "2    facebook / cpc  Tak Sesuai Harapan, Barang Belanja Online Ini ...   \n",
              "3    facebook / cpc            Antar 'Tuyul', 7 Pengemudi Grab Dibekuk   \n",
              "4    facebook / cpc        Melihat Kantor Pelayanan Grab Driver Center   \n",
              "..              ...                                                ...   \n",
              "151  facebook / cpc          Edan, Ponsel Ini Punya Baterai 13.000 mAh   \n",
              "152  facebook / cpc   Gempa Keras di Jakarta Terasa Lebih dari 1 Menit   \n",
              "153  facebook / cpc           Jennifer Dunn dan Deretan Mobil Mewahnya   \n",
              "154  facebook / cpc           Kasus Salah Baca Xiaomi Terulang Kembali   \n",
              "155  facebook / cpc                            Netizen Ramai Teriakkan   \n",
              "\n",
              "       users  bounceRate  pageviews  pageviewsPerSession  avgTimeOnPage  \n",
              "0    13736.0   19.269967    83593.0             6.042140      21.790189  \n",
              "1    15909.0   62.303763    74032.0             4.612011      16.330553  \n",
              "2     7748.0   30.934520    54657.0             6.949396      21.429338  \n",
              "3    43893.0    6.966219    47924.0             1.106560       5.056397  \n",
              "4    41155.0   11.630219    44072.0            43.809145     180.944233  \n",
              "..       ...         ...        ...                  ...            ...  \n",
              "151    198.0   76.923077      215.0             1.837607     101.685393  \n",
              "152    180.0   20.000000      215.0             2.388889     233.640000  \n",
              "153    180.0  100.000000      215.0            23.888889      97.836735  \n",
              "154    180.0   83.333333      215.0             1.990741     178.449438  \n",
              "155      NaN         NaN        NaN                  NaN            NaN  \n",
              "\n",
              "[156 rows x 7 columns]"
            ],
            "text/html": [
              "\n",
              "  <div id=\"df-71404ddf-106e-4c4f-a94b-6d7d62ebfab2\" class=\"colab-df-container\">\n",
              "    <div>\n",
              "<style scoped>\n",
              "    .dataframe tbody tr th:only-of-type {\n",
              "        vertical-align: middle;\n",
              "    }\n",
              "\n",
              "    .dataframe tbody tr th {\n",
              "        vertical-align: top;\n",
              "    }\n",
              "\n",
              "    .dataframe thead th {\n",
              "        text-align: right;\n",
              "    }\n",
              "</style>\n",
              "<table border=\"1\" class=\"dataframe\">\n",
              "  <thead>\n",
              "    <tr style=\"text-align: right;\">\n",
              "      <th></th>\n",
              "      <th>sourceMedium</th>\n",
              "      <th>pageTitle</th>\n",
              "      <th>users</th>\n",
              "      <th>bounceRate</th>\n",
              "      <th>pageviews</th>\n",
              "      <th>pageviewsPerSession</th>\n",
              "      <th>avgTimeOnPage</th>\n",
              "    </tr>\n",
              "  </thead>\n",
              "  <tbody>\n",
              "    <tr>\n",
              "      <th>0</th>\n",
              "      <td>facebook / cpc</td>\n",
              "      <td>Bikin Lambe Turah Diomelin, Nih Si Seksi yang ...</td>\n",
              "      <td>13736.0</td>\n",
              "      <td>19.269967</td>\n",
              "      <td>83593.0</td>\n",
              "      <td>6.042140</td>\n",
              "      <td>21.790189</td>\n",
              "    </tr>\n",
              "    <tr>\n",
              "      <th>1</th>\n",
              "      <td>facebook / cpc</td>\n",
              "      <td>Heboh! Kiki Farel Transfer Uang Jajan Rp 1 Jut...</td>\n",
              "      <td>15909.0</td>\n",
              "      <td>62.303763</td>\n",
              "      <td>74032.0</td>\n",
              "      <td>4.612011</td>\n",
              "      <td>16.330553</td>\n",
              "    </tr>\n",
              "    <tr>\n",
              "      <th>2</th>\n",
              "      <td>facebook / cpc</td>\n",
              "      <td>Tak Sesuai Harapan, Barang Belanja Online Ini ...</td>\n",
              "      <td>7748.0</td>\n",
              "      <td>30.934520</td>\n",
              "      <td>54657.0</td>\n",
              "      <td>6.949396</td>\n",
              "      <td>21.429338</td>\n",
              "    </tr>\n",
              "    <tr>\n",
              "      <th>3</th>\n",
              "      <td>facebook / cpc</td>\n",
              "      <td>Antar 'Tuyul', 7 Pengemudi Grab Dibekuk</td>\n",
              "      <td>43893.0</td>\n",
              "      <td>6.966219</td>\n",
              "      <td>47924.0</td>\n",
              "      <td>1.106560</td>\n",
              "      <td>5.056397</td>\n",
              "    </tr>\n",
              "    <tr>\n",
              "      <th>4</th>\n",
              "      <td>facebook / cpc</td>\n",
              "      <td>Melihat Kantor Pelayanan Grab Driver Center</td>\n",
              "      <td>41155.0</td>\n",
              "      <td>11.630219</td>\n",
              "      <td>44072.0</td>\n",
              "      <td>43.809145</td>\n",
              "      <td>180.944233</td>\n",
              "    </tr>\n",
              "    <tr>\n",
              "      <th>...</th>\n",
              "      <td>...</td>\n",
              "      <td>...</td>\n",
              "      <td>...</td>\n",
              "      <td>...</td>\n",
              "      <td>...</td>\n",
              "      <td>...</td>\n",
              "      <td>...</td>\n",
              "    </tr>\n",
              "    <tr>\n",
              "      <th>151</th>\n",
              "      <td>facebook / cpc</td>\n",
              "      <td>Edan, Ponsel Ini Punya Baterai 13.000 mAh</td>\n",
              "      <td>198.0</td>\n",
              "      <td>76.923077</td>\n",
              "      <td>215.0</td>\n",
              "      <td>1.837607</td>\n",
              "      <td>101.685393</td>\n",
              "    </tr>\n",
              "    <tr>\n",
              "      <th>152</th>\n",
              "      <td>facebook / cpc</td>\n",
              "      <td>Gempa Keras di Jakarta Terasa Lebih dari 1 Menit</td>\n",
              "      <td>180.0</td>\n",
              "      <td>20.000000</td>\n",
              "      <td>215.0</td>\n",
              "      <td>2.388889</td>\n",
              "      <td>233.640000</td>\n",
              "    </tr>\n",
              "    <tr>\n",
              "      <th>153</th>\n",
              "      <td>facebook / cpc</td>\n",
              "      <td>Jennifer Dunn dan Deretan Mobil Mewahnya</td>\n",
              "      <td>180.0</td>\n",
              "      <td>100.000000</td>\n",
              "      <td>215.0</td>\n",
              "      <td>23.888889</td>\n",
              "      <td>97.836735</td>\n",
              "    </tr>\n",
              "    <tr>\n",
              "      <th>154</th>\n",
              "      <td>facebook / cpc</td>\n",
              "      <td>Kasus Salah Baca Xiaomi Terulang Kembali</td>\n",
              "      <td>180.0</td>\n",
              "      <td>83.333333</td>\n",
              "      <td>215.0</td>\n",
              "      <td>1.990741</td>\n",
              "      <td>178.449438</td>\n",
              "    </tr>\n",
              "    <tr>\n",
              "      <th>155</th>\n",
              "      <td>facebook / cpc</td>\n",
              "      <td>Netizen Ramai Teriakkan</td>\n",
              "      <td>NaN</td>\n",
              "      <td>NaN</td>\n",
              "      <td>NaN</td>\n",
              "      <td>NaN</td>\n",
              "      <td>NaN</td>\n",
              "    </tr>\n",
              "  </tbody>\n",
              "</table>\n",
              "<p>156 rows × 7 columns</p>\n",
              "</div>\n",
              "    <div class=\"colab-df-buttons\">\n",
              "\n",
              "  <div class=\"colab-df-container\">\n",
              "    <button class=\"colab-df-convert\" onclick=\"convertToInteractive('df-71404ddf-106e-4c4f-a94b-6d7d62ebfab2')\"\n",
              "            title=\"Convert this dataframe to an interactive table.\"\n",
              "            style=\"display:none;\">\n",
              "\n",
              "  <svg xmlns=\"http://www.w3.org/2000/svg\" height=\"24px\" viewBox=\"0 -960 960 960\">\n",
              "    <path d=\"M120-120v-720h720v720H120Zm60-500h600v-160H180v160Zm220 220h160v-160H400v160Zm0 220h160v-160H400v160ZM180-400h160v-160H180v160Zm440 0h160v-160H620v160ZM180-180h160v-160H180v160Zm440 0h160v-160H620v160Z\"/>\n",
              "  </svg>\n",
              "    </button>\n",
              "\n",
              "  <style>\n",
              "    .colab-df-container {\n",
              "      display:flex;\n",
              "      gap: 12px;\n",
              "    }\n",
              "\n",
              "    .colab-df-convert {\n",
              "      background-color: #E8F0FE;\n",
              "      border: none;\n",
              "      border-radius: 50%;\n",
              "      cursor: pointer;\n",
              "      display: none;\n",
              "      fill: #1967D2;\n",
              "      height: 32px;\n",
              "      padding: 0 0 0 0;\n",
              "      width: 32px;\n",
              "    }\n",
              "\n",
              "    .colab-df-convert:hover {\n",
              "      background-color: #E2EBFA;\n",
              "      box-shadow: 0px 1px 2px rgba(60, 64, 67, 0.3), 0px 1px 3px 1px rgba(60, 64, 67, 0.15);\n",
              "      fill: #174EA6;\n",
              "    }\n",
              "\n",
              "    .colab-df-buttons div {\n",
              "      margin-bottom: 4px;\n",
              "    }\n",
              "\n",
              "    [theme=dark] .colab-df-convert {\n",
              "      background-color: #3B4455;\n",
              "      fill: #D2E3FC;\n",
              "    }\n",
              "\n",
              "    [theme=dark] .colab-df-convert:hover {\n",
              "      background-color: #434B5C;\n",
              "      box-shadow: 0px 1px 3px 1px rgba(0, 0, 0, 0.15);\n",
              "      filter: drop-shadow(0px 1px 2px rgba(0, 0, 0, 0.3));\n",
              "      fill: #FFFFFF;\n",
              "    }\n",
              "  </style>\n",
              "\n",
              "    <script>\n",
              "      const buttonEl =\n",
              "        document.querySelector('#df-71404ddf-106e-4c4f-a94b-6d7d62ebfab2 button.colab-df-convert');\n",
              "      buttonEl.style.display =\n",
              "        google.colab.kernel.accessAllowed ? 'block' : 'none';\n",
              "\n",
              "      async function convertToInteractive(key) {\n",
              "        const element = document.querySelector('#df-71404ddf-106e-4c4f-a94b-6d7d62ebfab2');\n",
              "        const dataTable =\n",
              "          await google.colab.kernel.invokeFunction('convertToInteractive',\n",
              "                                                    [key], {});\n",
              "        if (!dataTable) return;\n",
              "\n",
              "        const docLinkHtml = 'Like what you see? Visit the ' +\n",
              "          '<a target=\"_blank\" href=https://colab.research.google.com/notebooks/data_table.ipynb>data table notebook</a>'\n",
              "          + ' to learn more about interactive tables.';\n",
              "        element.innerHTML = '';\n",
              "        dataTable['output_type'] = 'display_data';\n",
              "        await google.colab.output.renderOutput(dataTable, element);\n",
              "        const docLink = document.createElement('div');\n",
              "        docLink.innerHTML = docLinkHtml;\n",
              "        element.appendChild(docLink);\n",
              "      }\n",
              "    </script>\n",
              "  </div>\n",
              "\n",
              "\n",
              "<div id=\"df-394cbe4f-2c26-4669-a8d1-9e191409e177\">\n",
              "  <button class=\"colab-df-quickchart\" onclick=\"quickchart('df-394cbe4f-2c26-4669-a8d1-9e191409e177')\"\n",
              "            title=\"Suggest charts\"\n",
              "            style=\"display:none;\">\n",
              "\n",
              "<svg xmlns=\"http://www.w3.org/2000/svg\" height=\"24px\"viewBox=\"0 0 24 24\"\n",
              "     width=\"24px\">\n",
              "    <g>\n",
              "        <path d=\"M19 3H5c-1.1 0-2 .9-2 2v14c0 1.1.9 2 2 2h14c1.1 0 2-.9 2-2V5c0-1.1-.9-2-2-2zM9 17H7v-7h2v7zm4 0h-2V7h2v10zm4 0h-2v-4h2v4z\"/>\n",
              "    </g>\n",
              "</svg>\n",
              "  </button>\n",
              "\n",
              "<style>\n",
              "  .colab-df-quickchart {\n",
              "      --bg-color: #E8F0FE;\n",
              "      --fill-color: #1967D2;\n",
              "      --hover-bg-color: #E2EBFA;\n",
              "      --hover-fill-color: #174EA6;\n",
              "      --disabled-fill-color: #AAA;\n",
              "      --disabled-bg-color: #DDD;\n",
              "  }\n",
              "\n",
              "  [theme=dark] .colab-df-quickchart {\n",
              "      --bg-color: #3B4455;\n",
              "      --fill-color: #D2E3FC;\n",
              "      --hover-bg-color: #434B5C;\n",
              "      --hover-fill-color: #FFFFFF;\n",
              "      --disabled-bg-color: #3B4455;\n",
              "      --disabled-fill-color: #666;\n",
              "  }\n",
              "\n",
              "  .colab-df-quickchart {\n",
              "    background-color: var(--bg-color);\n",
              "    border: none;\n",
              "    border-radius: 50%;\n",
              "    cursor: pointer;\n",
              "    display: none;\n",
              "    fill: var(--fill-color);\n",
              "    height: 32px;\n",
              "    padding: 0;\n",
              "    width: 32px;\n",
              "  }\n",
              "\n",
              "  .colab-df-quickchart:hover {\n",
              "    background-color: var(--hover-bg-color);\n",
              "    box-shadow: 0 1px 2px rgba(60, 64, 67, 0.3), 0 1px 3px 1px rgba(60, 64, 67, 0.15);\n",
              "    fill: var(--button-hover-fill-color);\n",
              "  }\n",
              "\n",
              "  .colab-df-quickchart-complete:disabled,\n",
              "  .colab-df-quickchart-complete:disabled:hover {\n",
              "    background-color: var(--disabled-bg-color);\n",
              "    fill: var(--disabled-fill-color);\n",
              "    box-shadow: none;\n",
              "  }\n",
              "\n",
              "  .colab-df-spinner {\n",
              "    border: 2px solid var(--fill-color);\n",
              "    border-color: transparent;\n",
              "    border-bottom-color: var(--fill-color);\n",
              "    animation:\n",
              "      spin 1s steps(1) infinite;\n",
              "  }\n",
              "\n",
              "  @keyframes spin {\n",
              "    0% {\n",
              "      border-color: transparent;\n",
              "      border-bottom-color: var(--fill-color);\n",
              "      border-left-color: var(--fill-color);\n",
              "    }\n",
              "    20% {\n",
              "      border-color: transparent;\n",
              "      border-left-color: var(--fill-color);\n",
              "      border-top-color: var(--fill-color);\n",
              "    }\n",
              "    30% {\n",
              "      border-color: transparent;\n",
              "      border-left-color: var(--fill-color);\n",
              "      border-top-color: var(--fill-color);\n",
              "      border-right-color: var(--fill-color);\n",
              "    }\n",
              "    40% {\n",
              "      border-color: transparent;\n",
              "      border-right-color: var(--fill-color);\n",
              "      border-top-color: var(--fill-color);\n",
              "    }\n",
              "    60% {\n",
              "      border-color: transparent;\n",
              "      border-right-color: var(--fill-color);\n",
              "    }\n",
              "    80% {\n",
              "      border-color: transparent;\n",
              "      border-right-color: var(--fill-color);\n",
              "      border-bottom-color: var(--fill-color);\n",
              "    }\n",
              "    90% {\n",
              "      border-color: transparent;\n",
              "      border-bottom-color: var(--fill-color);\n",
              "    }\n",
              "  }\n",
              "</style>\n",
              "\n",
              "  <script>\n",
              "    async function quickchart(key) {\n",
              "      const quickchartButtonEl =\n",
              "        document.querySelector('#' + key + ' button');\n",
              "      quickchartButtonEl.disabled = true;  // To prevent multiple clicks.\n",
              "      quickchartButtonEl.classList.add('colab-df-spinner');\n",
              "      try {\n",
              "        const charts = await google.colab.kernel.invokeFunction(\n",
              "            'suggestCharts', [key], {});\n",
              "      } catch (error) {\n",
              "        console.error('Error during call to suggestCharts:', error);\n",
              "      }\n",
              "      quickchartButtonEl.classList.remove('colab-df-spinner');\n",
              "      quickchartButtonEl.classList.add('colab-df-quickchart-complete');\n",
              "    }\n",
              "    (() => {\n",
              "      let quickchartButtonEl =\n",
              "        document.querySelector('#df-394cbe4f-2c26-4669-a8d1-9e191409e177 button');\n",
              "      quickchartButtonEl.style.display =\n",
              "        google.colab.kernel.accessAllowed ? 'block' : 'none';\n",
              "    })();\n",
              "  </script>\n",
              "</div>\n",
              "\n",
              "    </div>\n",
              "  </div>\n"
            ],
            "application/vnd.google.colaboratory.intrinsic+json": {
              "type": "dataframe",
              "variable_name": "data_analisis_baru_df",
              "summary": "{\n  \"name\": \"data_analisis_baru_df\",\n  \"rows\": 156,\n  \"fields\": [\n    {\n      \"column\": \"sourceMedium\",\n      \"properties\": {\n        \"dtype\": \"category\",\n        \"num_unique_values\": 2,\n        \"samples\": [\n          \"google / cpc\",\n          \"facebook / cpc\"\n        ],\n        \"semantic_type\": \"\",\n        \"description\": \"\"\n      }\n    },\n    {\n      \"column\": \"pageTitle\",\n      \"properties\": {\n        \"dtype\": \"string\",\n        \"num_unique_values\": 151,\n        \"samples\": [\n          \"Aroma Latin di Old Trafford\",\n          \"Begini Gaya Nyentrik Pasha 'Ungu' yang Menuai Kontroversi\"\n        ],\n        \"semantic_type\": \"\",\n        \"description\": \"\"\n      }\n    },\n    {\n      \"column\": \"users\",\n      \"properties\": {\n        \"dtype\": \"number\",\n        \"std\": 6449.314678718674,\n        \"min\": 9.0,\n        \"max\": 43893.0,\n        \"num_unique_values\": 75,\n        \"samples\": [\n          41155.0,\n          45.0\n        ],\n        \"semantic_type\": \"\",\n        \"description\": \"\"\n      }\n    },\n    {\n      \"column\": \"bounceRate\",\n      \"properties\": {\n        \"dtype\": \"number\",\n        \"std\": 36.03018354828287,\n        \"min\": 0.0,\n        \"max\": 100.0,\n        \"num_unique_values\": 48,\n        \"samples\": [\n          83.30522766,\n          64.54183267\n        ],\n        \"semantic_type\": \"\",\n        \"description\": \"\"\n      }\n    },\n    {\n      \"column\": \"pageviews\",\n      \"properties\": {\n        \"dtype\": \"number\",\n        \"std\": 11845.050363709317,\n        \"min\": 215.0,\n        \"max\": 83593.0,\n        \"num_unique_values\": 89,\n        \"samples\": [\n          700.0,\n          602.0\n        ],\n        \"semantic_type\": \"\",\n        \"description\": \"\"\n      }\n    },\n    {\n      \"column\": \"pageviewsPerSession\",\n      \"properties\": {\n        \"dtype\": \"number\",\n        \"std\": 32.52291628039694,\n        \"min\": 0.0,\n        \"max\": 268.8333333,\n        \"num_unique_values\": 107,\n        \"samples\": [\n          16.94444444,\n          1.073741181\n        ],\n        \"semantic_type\": \"\",\n        \"description\": \"\"\n      }\n    },\n    {\n      \"column\": \"avgTimeOnPage\",\n      \"properties\": {\n        \"dtype\": \"number\",\n        \"std\": 77.97525855443503,\n        \"min\": 2.814914645,\n        \"max\": 449.8971963,\n        \"num_unique_values\": 155,\n        \"samples\": [\n          110.27897,\n          24.60714286\n        ],\n        \"semantic_type\": \"\",\n        \"description\": \"\"\n      }\n    }\n  ]\n}"
            }
          },
          "metadata": {},
          "execution_count": 3
        }
      ]
    },
    {
      "cell_type": "markdown",
      "source": [
        "# **Assessing Data**\n",
        "\n",
        "Tahap ini merupakan proses mengidentifikasi masalah yang terdapat dalam tiap data, seperti missing value, invalid value, duplicated value dll. Disini saya akan mengidentifikasi data yang akan saya gunakan."
      ],
      "metadata": {
        "id": "S_tB6SAdAkM9"
      }
    },
    {
      "cell_type": "code",
      "source": [
        "# Menilai dataset\n",
        "data_analisis_df.info()"
      ],
      "metadata": {
        "colab": {
          "base_uri": "https://localhost:8080/"
        },
        "id": "UYdGInYdyLg1",
        "outputId": "0fbf1b1f-13dc-49a4-b3f5-1be1930ff7c3"
      },
      "execution_count": null,
      "outputs": [
        {
          "output_type": "stream",
          "name": "stdout",
          "text": [
            "<class 'pandas.core.frame.DataFrame'>\n",
            "RangeIndex: 156 entries, 0 to 155\n",
            "Data columns (total 7 columns):\n",
            " #   Column               Non-Null Count  Dtype  \n",
            "---  ------               --------------  -----  \n",
            " 0   sourceMedium         156 non-null    object \n",
            " 1   pageTitle            156 non-null    object \n",
            " 2   users                155 non-null    float64\n",
            " 3   bounceRate           155 non-null    float64\n",
            " 4   pageviews            155 non-null    float64\n",
            " 5   pageviewsPerSession  155 non-null    float64\n",
            " 6   avgTimeOnPage        155 non-null    float64\n",
            "dtypes: float64(5), object(2)\n",
            "memory usage: 8.7+ KB\n"
          ]
        }
      ]
    },
    {
      "cell_type": "markdown",
      "source": [
        "*   Jika dilihat, jumlah data yang ada pada tiap kolom memiliki jumlah yang berbeda, dapat diasumsikan bahwa didalam dataset assignment data analyst ini terdapat missing values karena berdasarkan nilai yang ada di kolom users, bounceRate, pageviews, pageviewsPerSession, dan avgTimeOnpage tidak memiliki jumlah nilai yang sama dengan kolom-kolom lainnya sebesar 156 data.\n",
        "*   Pada tiap kolom telah didefinsikan dengan tipe data yang tepat, seperti contohnya sourceMedium dan pageTitle yang berupa teks didefinisikan dengan tipe data object dan untuk kolom lainnya (users, bounceRate, dll) juga telah didefinisikan dengan tepat yaitu tipe data float karena mengandung angka desimal.\n"
      ],
      "metadata": {
        "id": "17DyQkcDB1k8"
      }
    },
    {
      "cell_type": "code",
      "source": [
        "# Memeriksa kolom yang mengandung missing values\n",
        "data_analisis_df.isna().sum()"
      ],
      "metadata": {
        "colab": {
          "base_uri": "https://localhost:8080/",
          "height": 304
        },
        "id": "V6Kp-QWeUqoW",
        "outputId": "c9ef55ba-696f-4128-b789-661ff79a1ddf"
      },
      "execution_count": null,
      "outputs": [
        {
          "output_type": "execute_result",
          "data": {
            "text/plain": [
              "sourceMedium           0\n",
              "pageTitle              0\n",
              "users                  1\n",
              "bounceRate             1\n",
              "pageviews              1\n",
              "pageviewsPerSession    1\n",
              "avgTimeOnPage          1\n",
              "dtype: int64"
            ],
            "text/html": [
              "<div>\n",
              "<style scoped>\n",
              "    .dataframe tbody tr th:only-of-type {\n",
              "        vertical-align: middle;\n",
              "    }\n",
              "\n",
              "    .dataframe tbody tr th {\n",
              "        vertical-align: top;\n",
              "    }\n",
              "\n",
              "    .dataframe thead th {\n",
              "        text-align: right;\n",
              "    }\n",
              "</style>\n",
              "<table border=\"1\" class=\"dataframe\">\n",
              "  <thead>\n",
              "    <tr style=\"text-align: right;\">\n",
              "      <th></th>\n",
              "      <th>0</th>\n",
              "    </tr>\n",
              "  </thead>\n",
              "  <tbody>\n",
              "    <tr>\n",
              "      <th>sourceMedium</th>\n",
              "      <td>0</td>\n",
              "    </tr>\n",
              "    <tr>\n",
              "      <th>pageTitle</th>\n",
              "      <td>0</td>\n",
              "    </tr>\n",
              "    <tr>\n",
              "      <th>users</th>\n",
              "      <td>1</td>\n",
              "    </tr>\n",
              "    <tr>\n",
              "      <th>bounceRate</th>\n",
              "      <td>1</td>\n",
              "    </tr>\n",
              "    <tr>\n",
              "      <th>pageviews</th>\n",
              "      <td>1</td>\n",
              "    </tr>\n",
              "    <tr>\n",
              "      <th>pageviewsPerSession</th>\n",
              "      <td>1</td>\n",
              "    </tr>\n",
              "    <tr>\n",
              "      <th>avgTimeOnPage</th>\n",
              "      <td>1</td>\n",
              "    </tr>\n",
              "  </tbody>\n",
              "</table>\n",
              "</div><br><label><b>dtype:</b> int64</label>"
            ]
          },
          "metadata": {},
          "execution_count": 5
        }
      ]
    },
    {
      "cell_type": "markdown",
      "source": [
        "Pada kode di atas berfungsi untuk menampilkan informasi terkait jumlah missing values yang terdapat setiap kolom. Dapat dilihat bahwa terdapat missing values sebanyak 1 data, baik pada kolom users, bounceRate, pageviews, pageviewsPerSession, dan avgTimeOnPage pada halaman. Data missing values ini nanti akan dibersihkan pada tahap data cleaning nanti."
      ],
      "metadata": {
        "id": "5uJCAd7nWSK_"
      }
    },
    {
      "cell_type": "code",
      "source": [
        "# Memeriksa duplikasi data\n",
        "print(\"Jumlah duplikasi : \", data_analisis_df.duplicated().sum())"
      ],
      "metadata": {
        "colab": {
          "base_uri": "https://localhost:8080/"
        },
        "id": "WyUuY71UBDYF",
        "outputId": "465a1a23-b1c8-4400-ac01-292615090429"
      },
      "execution_count": null,
      "outputs": [
        {
          "output_type": "stream",
          "name": "stdout",
          "text": [
            "Jumlah duplikasi :  0\n"
          ]
        }
      ]
    },
    {
      "cell_type": "markdown",
      "source": [
        "Pada kode di atas dapat dilihat bahwa tidak terdapat data yang terduplikat sehingga pada proses cleaning data nanti tidak perlu dilakukan pembersihan duplikat terhadap data ini."
      ],
      "metadata": {
        "id": "FIQQ2u3gTod0"
      }
    },
    {
      "cell_type": "markdown",
      "source": [
        "# Cleaning Data\n",
        "\n",
        "Tahap ini merupakan proses untuk membersihkan data berdasarkan assessing data yang telah dilakukan sebelumnya agar hasil analisis data bisa memberikan hasil yang lebih tepat."
      ],
      "metadata": {
        "id": "A4r1rYZxaUHv"
      }
    },
    {
      "cell_type": "code",
      "source": [
        "#Memeriksa missing values pada dataset\n",
        "data_analisis_df[data_analisis_df.users.isna()]"
      ],
      "metadata": {
        "colab": {
          "base_uri": "https://localhost:8080/",
          "height": 81
        },
        "id": "i7v_utTvZgSR",
        "outputId": "a7a0d223-7cc7-45e1-9eef-c083a41345cb"
      },
      "execution_count": null,
      "outputs": [
        {
          "output_type": "execute_result",
          "data": {
            "text/plain": [
              "       sourceMedium                pageTitle  users  bounceRate  pageviews  \\\n",
              "155  facebook / cpc  Netizen Ramai Teriakkan    NaN         NaN        NaN   \n",
              "\n",
              "     pageviewsPerSession  avgTimeOnPage  \n",
              "155                  NaN            NaN  "
            ],
            "text/html": [
              "\n",
              "  <div id=\"df-5932ea4d-7c67-4f4f-ac4d-a703aa8ec422\" class=\"colab-df-container\">\n",
              "    <div>\n",
              "<style scoped>\n",
              "    .dataframe tbody tr th:only-of-type {\n",
              "        vertical-align: middle;\n",
              "    }\n",
              "\n",
              "    .dataframe tbody tr th {\n",
              "        vertical-align: top;\n",
              "    }\n",
              "\n",
              "    .dataframe thead th {\n",
              "        text-align: right;\n",
              "    }\n",
              "</style>\n",
              "<table border=\"1\" class=\"dataframe\">\n",
              "  <thead>\n",
              "    <tr style=\"text-align: right;\">\n",
              "      <th></th>\n",
              "      <th>sourceMedium</th>\n",
              "      <th>pageTitle</th>\n",
              "      <th>users</th>\n",
              "      <th>bounceRate</th>\n",
              "      <th>pageviews</th>\n",
              "      <th>pageviewsPerSession</th>\n",
              "      <th>avgTimeOnPage</th>\n",
              "    </tr>\n",
              "  </thead>\n",
              "  <tbody>\n",
              "    <tr>\n",
              "      <th>155</th>\n",
              "      <td>facebook / cpc</td>\n",
              "      <td>Netizen Ramai Teriakkan</td>\n",
              "      <td>NaN</td>\n",
              "      <td>NaN</td>\n",
              "      <td>NaN</td>\n",
              "      <td>NaN</td>\n",
              "      <td>NaN</td>\n",
              "    </tr>\n",
              "  </tbody>\n",
              "</table>\n",
              "</div>\n",
              "    <div class=\"colab-df-buttons\">\n",
              "\n",
              "  <div class=\"colab-df-container\">\n",
              "    <button class=\"colab-df-convert\" onclick=\"convertToInteractive('df-5932ea4d-7c67-4f4f-ac4d-a703aa8ec422')\"\n",
              "            title=\"Convert this dataframe to an interactive table.\"\n",
              "            style=\"display:none;\">\n",
              "\n",
              "  <svg xmlns=\"http://www.w3.org/2000/svg\" height=\"24px\" viewBox=\"0 -960 960 960\">\n",
              "    <path d=\"M120-120v-720h720v720H120Zm60-500h600v-160H180v160Zm220 220h160v-160H400v160Zm0 220h160v-160H400v160ZM180-400h160v-160H180v160Zm440 0h160v-160H620v160ZM180-180h160v-160H180v160Zm440 0h160v-160H620v160Z\"/>\n",
              "  </svg>\n",
              "    </button>\n",
              "\n",
              "  <style>\n",
              "    .colab-df-container {\n",
              "      display:flex;\n",
              "      gap: 12px;\n",
              "    }\n",
              "\n",
              "    .colab-df-convert {\n",
              "      background-color: #E8F0FE;\n",
              "      border: none;\n",
              "      border-radius: 50%;\n",
              "      cursor: pointer;\n",
              "      display: none;\n",
              "      fill: #1967D2;\n",
              "      height: 32px;\n",
              "      padding: 0 0 0 0;\n",
              "      width: 32px;\n",
              "    }\n",
              "\n",
              "    .colab-df-convert:hover {\n",
              "      background-color: #E2EBFA;\n",
              "      box-shadow: 0px 1px 2px rgba(60, 64, 67, 0.3), 0px 1px 3px 1px rgba(60, 64, 67, 0.15);\n",
              "      fill: #174EA6;\n",
              "    }\n",
              "\n",
              "    .colab-df-buttons div {\n",
              "      margin-bottom: 4px;\n",
              "    }\n",
              "\n",
              "    [theme=dark] .colab-df-convert {\n",
              "      background-color: #3B4455;\n",
              "      fill: #D2E3FC;\n",
              "    }\n",
              "\n",
              "    [theme=dark] .colab-df-convert:hover {\n",
              "      background-color: #434B5C;\n",
              "      box-shadow: 0px 1px 3px 1px rgba(0, 0, 0, 0.15);\n",
              "      filter: drop-shadow(0px 1px 2px rgba(0, 0, 0, 0.3));\n",
              "      fill: #FFFFFF;\n",
              "    }\n",
              "  </style>\n",
              "\n",
              "    <script>\n",
              "      const buttonEl =\n",
              "        document.querySelector('#df-5932ea4d-7c67-4f4f-ac4d-a703aa8ec422 button.colab-df-convert');\n",
              "      buttonEl.style.display =\n",
              "        google.colab.kernel.accessAllowed ? 'block' : 'none';\n",
              "\n",
              "      async function convertToInteractive(key) {\n",
              "        const element = document.querySelector('#df-5932ea4d-7c67-4f4f-ac4d-a703aa8ec422');\n",
              "        const dataTable =\n",
              "          await google.colab.kernel.invokeFunction('convertToInteractive',\n",
              "                                                    [key], {});\n",
              "        if (!dataTable) return;\n",
              "\n",
              "        const docLinkHtml = 'Like what you see? Visit the ' +\n",
              "          '<a target=\"_blank\" href=https://colab.research.google.com/notebooks/data_table.ipynb>data table notebook</a>'\n",
              "          + ' to learn more about interactive tables.';\n",
              "        element.innerHTML = '';\n",
              "        dataTable['output_type'] = 'display_data';\n",
              "        await google.colab.output.renderOutput(dataTable, element);\n",
              "        const docLink = document.createElement('div');\n",
              "        docLink.innerHTML = docLinkHtml;\n",
              "        element.appendChild(docLink);\n",
              "      }\n",
              "    </script>\n",
              "  </div>\n",
              "\n",
              "\n",
              "    </div>\n",
              "  </div>\n"
            ],
            "application/vnd.google.colaboratory.intrinsic+json": {
              "type": "dataframe",
              "summary": "{\n  \"name\": \"data_analisis_df[data_analisis_df\",\n  \"rows\": 1,\n  \"fields\": [\n    {\n      \"column\": \"sourceMedium\",\n      \"properties\": {\n        \"dtype\": \"string\",\n        \"num_unique_values\": 1,\n        \"samples\": [\n          \"facebook / cpc\"\n        ],\n        \"semantic_type\": \"\",\n        \"description\": \"\"\n      }\n    },\n    {\n      \"column\": \"pageTitle\",\n      \"properties\": {\n        \"dtype\": \"string\",\n        \"num_unique_values\": 1,\n        \"samples\": [\n          \"Netizen Ramai Teriakkan\"\n        ],\n        \"semantic_type\": \"\",\n        \"description\": \"\"\n      }\n    },\n    {\n      \"column\": \"users\",\n      \"properties\": {\n        \"dtype\": \"number\",\n        \"std\": null,\n        \"min\": null,\n        \"max\": null,\n        \"num_unique_values\": 0,\n        \"samples\": [],\n        \"semantic_type\": \"\",\n        \"description\": \"\"\n      }\n    },\n    {\n      \"column\": \"bounceRate\",\n      \"properties\": {\n        \"dtype\": \"number\",\n        \"std\": null,\n        \"min\": null,\n        \"max\": null,\n        \"num_unique_values\": 0,\n        \"samples\": [],\n        \"semantic_type\": \"\",\n        \"description\": \"\"\n      }\n    },\n    {\n      \"column\": \"pageviews\",\n      \"properties\": {\n        \"dtype\": \"number\",\n        \"std\": null,\n        \"min\": null,\n        \"max\": null,\n        \"num_unique_values\": 0,\n        \"samples\": [],\n        \"semantic_type\": \"\",\n        \"description\": \"\"\n      }\n    },\n    {\n      \"column\": \"pageviewsPerSession\",\n      \"properties\": {\n        \"dtype\": \"number\",\n        \"std\": null,\n        \"min\": null,\n        \"max\": null,\n        \"num_unique_values\": 0,\n        \"samples\": [],\n        \"semantic_type\": \"\",\n        \"description\": \"\"\n      }\n    },\n    {\n      \"column\": \"avgTimeOnPage\",\n      \"properties\": {\n        \"dtype\": \"number\",\n        \"std\": null,\n        \"min\": null,\n        \"max\": null,\n        \"num_unique_values\": 0,\n        \"samples\": [],\n        \"semantic_type\": \"\",\n        \"description\": \"\"\n      }\n    }\n  ]\n}"
            }
          },
          "metadata": {},
          "execution_count": 7
        }
      ]
    },
    {
      "cell_type": "markdown",
      "source": [
        "Karena data yang kosong hanya berjumlah satu saja, dapat digunakan cleaning dengan teknik dropping, yaitu dengan menghapus seluruh baris yang memiliki missing values. Hal ini tentunya tidak mempengaruhi penilaian analisis karena jumlah data yang di dropping tidak banyak, sehingga metode ini adalah metode yang paling sesuai untuk menangani missing values ini."
      ],
      "metadata": {
        "id": "wRbE7_gzdEvK"
      }
    },
    {
      "cell_type": "code",
      "source": [
        "# Membersihkan data null pada dataset\n",
        "data_analisis_df.dropna(axis=0, inplace=True)"
      ],
      "metadata": {
        "id": "IvYInxE5iNcr"
      },
      "execution_count": null,
      "outputs": []
    },
    {
      "cell_type": "code",
      "source": [
        "# Menampilkan hasil pembersihan\n",
        "data_analisis_df.isna().sum()"
      ],
      "metadata": {
        "colab": {
          "base_uri": "https://localhost:8080/",
          "height": 304
        },
        "id": "uKTd05qTieHQ",
        "outputId": "264d35f2-77de-480e-9f68-0f7e6c66bcaf"
      },
      "execution_count": null,
      "outputs": [
        {
          "output_type": "execute_result",
          "data": {
            "text/plain": [
              "sourceMedium           0\n",
              "pageTitle              0\n",
              "users                  0\n",
              "bounceRate             0\n",
              "pageviews              0\n",
              "pageviewsPerSession    0\n",
              "avgTimeOnPage          0\n",
              "dtype: int64"
            ],
            "text/html": [
              "<div>\n",
              "<style scoped>\n",
              "    .dataframe tbody tr th:only-of-type {\n",
              "        vertical-align: middle;\n",
              "    }\n",
              "\n",
              "    .dataframe tbody tr th {\n",
              "        vertical-align: top;\n",
              "    }\n",
              "\n",
              "    .dataframe thead th {\n",
              "        text-align: right;\n",
              "    }\n",
              "</style>\n",
              "<table border=\"1\" class=\"dataframe\">\n",
              "  <thead>\n",
              "    <tr style=\"text-align: right;\">\n",
              "      <th></th>\n",
              "      <th>0</th>\n",
              "    </tr>\n",
              "  </thead>\n",
              "  <tbody>\n",
              "    <tr>\n",
              "      <th>sourceMedium</th>\n",
              "      <td>0</td>\n",
              "    </tr>\n",
              "    <tr>\n",
              "      <th>pageTitle</th>\n",
              "      <td>0</td>\n",
              "    </tr>\n",
              "    <tr>\n",
              "      <th>users</th>\n",
              "      <td>0</td>\n",
              "    </tr>\n",
              "    <tr>\n",
              "      <th>bounceRate</th>\n",
              "      <td>0</td>\n",
              "    </tr>\n",
              "    <tr>\n",
              "      <th>pageviews</th>\n",
              "      <td>0</td>\n",
              "    </tr>\n",
              "    <tr>\n",
              "      <th>pageviewsPerSession</th>\n",
              "      <td>0</td>\n",
              "    </tr>\n",
              "    <tr>\n",
              "      <th>avgTimeOnPage</th>\n",
              "      <td>0</td>\n",
              "    </tr>\n",
              "  </tbody>\n",
              "</table>\n",
              "</div><br><label><b>dtype:</b> int64</label>"
            ]
          },
          "metadata": {},
          "execution_count": 9
        }
      ]
    },
    {
      "cell_type": "markdown",
      "source": [
        "Dapat dilihat bahwa kolom users, bounceRate, pageviews, pageviewsPerSession, dan avgTimeOnPage menunjukkan angka nol yang berarti bahwa seluruh missing values telah berhasil dihapus dan menandakan bahwa tahapan cleaning (dropping) berjalan dengan baik."
      ],
      "metadata": {
        "id": "KpSt0mYKipZb"
      }
    },
    {
      "cell_type": "markdown",
      "source": [
        "# Exploratory Data Analysis (EDA)"
      ],
      "metadata": {
        "id": "NxYnCBP6jLE9"
      }
    },
    {
      "cell_type": "markdown",
      "source": [
        "Tahap ini merupakan proses analisis data yang bertujuan untuk mengeksplorasi dan mengenal sebuah data."
      ],
      "metadata": {
        "id": "31cy2T6I_GIi"
      }
    },
    {
      "cell_type": "code",
      "source": [
        "# Menghitung jumlah source medium (sumber media) yang ada pada dataset\n",
        "data_analisis_df['sourceMedium'].value_counts()"
      ],
      "metadata": {
        "colab": {
          "base_uri": "https://localhost:8080/",
          "height": 178
        },
        "id": "ceJn1orTAURi",
        "outputId": "fd29d59c-fe9c-4625-bfe5-f6f09b3ea024"
      },
      "execution_count": null,
      "outputs": [
        {
          "output_type": "execute_result",
          "data": {
            "text/plain": [
              "sourceMedium\n",
              "facebook / cpc    150\n",
              "google / cpc        5\n",
              "Name: count, dtype: int64"
            ],
            "text/html": [
              "<div>\n",
              "<style scoped>\n",
              "    .dataframe tbody tr th:only-of-type {\n",
              "        vertical-align: middle;\n",
              "    }\n",
              "\n",
              "    .dataframe tbody tr th {\n",
              "        vertical-align: top;\n",
              "    }\n",
              "\n",
              "    .dataframe thead th {\n",
              "        text-align: right;\n",
              "    }\n",
              "</style>\n",
              "<table border=\"1\" class=\"dataframe\">\n",
              "  <thead>\n",
              "    <tr style=\"text-align: right;\">\n",
              "      <th></th>\n",
              "      <th>count</th>\n",
              "    </tr>\n",
              "    <tr>\n",
              "      <th>sourceMedium</th>\n",
              "      <th></th>\n",
              "    </tr>\n",
              "  </thead>\n",
              "  <tbody>\n",
              "    <tr>\n",
              "      <th>facebook / cpc</th>\n",
              "      <td>150</td>\n",
              "    </tr>\n",
              "    <tr>\n",
              "      <th>google / cpc</th>\n",
              "      <td>5</td>\n",
              "    </tr>\n",
              "  </tbody>\n",
              "</table>\n",
              "</div><br><label><b>dtype:</b> int64</label>"
            ]
          },
          "metadata": {},
          "execution_count": 10
        }
      ]
    },
    {
      "cell_type": "markdown",
      "source": [
        "Pada data ini dapat dilihat bahwa source medium (sumber media) terbanyak ditempati oleh Facebook dengan total 150 cpc. Sementara Google, hanya memiliki 5 cpc. Terdapat selisih sebesar 145 cpc yang dimana dapat dibilang perbedaan tersebut cukup besar dari total data yang berjumlah 156 (bagian yang mengandung missing values tidak termasuk dalam data ini)."
      ],
      "metadata": {
        "id": "32NQdcn5AhVs"
      }
    },
    {
      "cell_type": "code",
      "source": [
        "# Menampilkan rangkuman parameter statistik dataset\n",
        "data_analisis_df.describe()"
      ],
      "metadata": {
        "colab": {
          "base_uri": "https://localhost:8080/",
          "height": 301
        },
        "id": "WDtoVy1k9gw2",
        "outputId": "92ca32fd-7060-41ae-ada8-182965984fbe"
      },
      "execution_count": null,
      "outputs": [
        {
          "output_type": "execute_result",
          "data": {
            "text/plain": [
              "              users  bounceRate     pageviews  pageviewsPerSession  \\\n",
              "count    155.000000  155.000000    155.000000           155.000000   \n",
              "mean    1995.722581   31.925982   3607.174194            16.204284   \n",
              "std     6449.314679   36.030184  11845.050364            32.522916   \n",
              "min        9.000000    0.000000    215.000000             0.000000   \n",
              "25%      108.000000    0.000000    287.000000             0.000000   \n",
              "50%      233.000000   17.070773    431.000000             2.353535   \n",
              "75%      458.000000   62.401881    826.000000            22.194444   \n",
              "max    43893.000000  100.000000  83593.000000           268.833333   \n",
              "\n",
              "       avgTimeOnPage  \n",
              "count     155.000000  \n",
              "mean       75.428357  \n",
              "std        77.975259  \n",
              "min         2.814915  \n",
              "25%        16.948403  \n",
              "50%        44.720930  \n",
              "75%       109.392803  \n",
              "max       449.897196  "
            ],
            "text/html": [
              "\n",
              "  <div id=\"df-7462e692-125a-45ae-b228-f284d128f513\" class=\"colab-df-container\">\n",
              "    <div>\n",
              "<style scoped>\n",
              "    .dataframe tbody tr th:only-of-type {\n",
              "        vertical-align: middle;\n",
              "    }\n",
              "\n",
              "    .dataframe tbody tr th {\n",
              "        vertical-align: top;\n",
              "    }\n",
              "\n",
              "    .dataframe thead th {\n",
              "        text-align: right;\n",
              "    }\n",
              "</style>\n",
              "<table border=\"1\" class=\"dataframe\">\n",
              "  <thead>\n",
              "    <tr style=\"text-align: right;\">\n",
              "      <th></th>\n",
              "      <th>users</th>\n",
              "      <th>bounceRate</th>\n",
              "      <th>pageviews</th>\n",
              "      <th>pageviewsPerSession</th>\n",
              "      <th>avgTimeOnPage</th>\n",
              "    </tr>\n",
              "  </thead>\n",
              "  <tbody>\n",
              "    <tr>\n",
              "      <th>count</th>\n",
              "      <td>155.000000</td>\n",
              "      <td>155.000000</td>\n",
              "      <td>155.000000</td>\n",
              "      <td>155.000000</td>\n",
              "      <td>155.000000</td>\n",
              "    </tr>\n",
              "    <tr>\n",
              "      <th>mean</th>\n",
              "      <td>1995.722581</td>\n",
              "      <td>31.925982</td>\n",
              "      <td>3607.174194</td>\n",
              "      <td>16.204284</td>\n",
              "      <td>75.428357</td>\n",
              "    </tr>\n",
              "    <tr>\n",
              "      <th>std</th>\n",
              "      <td>6449.314679</td>\n",
              "      <td>36.030184</td>\n",
              "      <td>11845.050364</td>\n",
              "      <td>32.522916</td>\n",
              "      <td>77.975259</td>\n",
              "    </tr>\n",
              "    <tr>\n",
              "      <th>min</th>\n",
              "      <td>9.000000</td>\n",
              "      <td>0.000000</td>\n",
              "      <td>215.000000</td>\n",
              "      <td>0.000000</td>\n",
              "      <td>2.814915</td>\n",
              "    </tr>\n",
              "    <tr>\n",
              "      <th>25%</th>\n",
              "      <td>108.000000</td>\n",
              "      <td>0.000000</td>\n",
              "      <td>287.000000</td>\n",
              "      <td>0.000000</td>\n",
              "      <td>16.948403</td>\n",
              "    </tr>\n",
              "    <tr>\n",
              "      <th>50%</th>\n",
              "      <td>233.000000</td>\n",
              "      <td>17.070773</td>\n",
              "      <td>431.000000</td>\n",
              "      <td>2.353535</td>\n",
              "      <td>44.720930</td>\n",
              "    </tr>\n",
              "    <tr>\n",
              "      <th>75%</th>\n",
              "      <td>458.000000</td>\n",
              "      <td>62.401881</td>\n",
              "      <td>826.000000</td>\n",
              "      <td>22.194444</td>\n",
              "      <td>109.392803</td>\n",
              "    </tr>\n",
              "    <tr>\n",
              "      <th>max</th>\n",
              "      <td>43893.000000</td>\n",
              "      <td>100.000000</td>\n",
              "      <td>83593.000000</td>\n",
              "      <td>268.833333</td>\n",
              "      <td>449.897196</td>\n",
              "    </tr>\n",
              "  </tbody>\n",
              "</table>\n",
              "</div>\n",
              "    <div class=\"colab-df-buttons\">\n",
              "\n",
              "  <div class=\"colab-df-container\">\n",
              "    <button class=\"colab-df-convert\" onclick=\"convertToInteractive('df-7462e692-125a-45ae-b228-f284d128f513')\"\n",
              "            title=\"Convert this dataframe to an interactive table.\"\n",
              "            style=\"display:none;\">\n",
              "\n",
              "  <svg xmlns=\"http://www.w3.org/2000/svg\" height=\"24px\" viewBox=\"0 -960 960 960\">\n",
              "    <path d=\"M120-120v-720h720v720H120Zm60-500h600v-160H180v160Zm220 220h160v-160H400v160Zm0 220h160v-160H400v160ZM180-400h160v-160H180v160Zm440 0h160v-160H620v160ZM180-180h160v-160H180v160Zm440 0h160v-160H620v160Z\"/>\n",
              "  </svg>\n",
              "    </button>\n",
              "\n",
              "  <style>\n",
              "    .colab-df-container {\n",
              "      display:flex;\n",
              "      gap: 12px;\n",
              "    }\n",
              "\n",
              "    .colab-df-convert {\n",
              "      background-color: #E8F0FE;\n",
              "      border: none;\n",
              "      border-radius: 50%;\n",
              "      cursor: pointer;\n",
              "      display: none;\n",
              "      fill: #1967D2;\n",
              "      height: 32px;\n",
              "      padding: 0 0 0 0;\n",
              "      width: 32px;\n",
              "    }\n",
              "\n",
              "    .colab-df-convert:hover {\n",
              "      background-color: #E2EBFA;\n",
              "      box-shadow: 0px 1px 2px rgba(60, 64, 67, 0.3), 0px 1px 3px 1px rgba(60, 64, 67, 0.15);\n",
              "      fill: #174EA6;\n",
              "    }\n",
              "\n",
              "    .colab-df-buttons div {\n",
              "      margin-bottom: 4px;\n",
              "    }\n",
              "\n",
              "    [theme=dark] .colab-df-convert {\n",
              "      background-color: #3B4455;\n",
              "      fill: #D2E3FC;\n",
              "    }\n",
              "\n",
              "    [theme=dark] .colab-df-convert:hover {\n",
              "      background-color: #434B5C;\n",
              "      box-shadow: 0px 1px 3px 1px rgba(0, 0, 0, 0.15);\n",
              "      filter: drop-shadow(0px 1px 2px rgba(0, 0, 0, 0.3));\n",
              "      fill: #FFFFFF;\n",
              "    }\n",
              "  </style>\n",
              "\n",
              "    <script>\n",
              "      const buttonEl =\n",
              "        document.querySelector('#df-7462e692-125a-45ae-b228-f284d128f513 button.colab-df-convert');\n",
              "      buttonEl.style.display =\n",
              "        google.colab.kernel.accessAllowed ? 'block' : 'none';\n",
              "\n",
              "      async function convertToInteractive(key) {\n",
              "        const element = document.querySelector('#df-7462e692-125a-45ae-b228-f284d128f513');\n",
              "        const dataTable =\n",
              "          await google.colab.kernel.invokeFunction('convertToInteractive',\n",
              "                                                    [key], {});\n",
              "        if (!dataTable) return;\n",
              "\n",
              "        const docLinkHtml = 'Like what you see? Visit the ' +\n",
              "          '<a target=\"_blank\" href=https://colab.research.google.com/notebooks/data_table.ipynb>data table notebook</a>'\n",
              "          + ' to learn more about interactive tables.';\n",
              "        element.innerHTML = '';\n",
              "        dataTable['output_type'] = 'display_data';\n",
              "        await google.colab.output.renderOutput(dataTable, element);\n",
              "        const docLink = document.createElement('div');\n",
              "        docLink.innerHTML = docLinkHtml;\n",
              "        element.appendChild(docLink);\n",
              "      }\n",
              "    </script>\n",
              "  </div>\n",
              "\n",
              "\n",
              "<div id=\"df-bd67c61f-06a7-4fde-bad8-66ad03db2161\">\n",
              "  <button class=\"colab-df-quickchart\" onclick=\"quickchart('df-bd67c61f-06a7-4fde-bad8-66ad03db2161')\"\n",
              "            title=\"Suggest charts\"\n",
              "            style=\"display:none;\">\n",
              "\n",
              "<svg xmlns=\"http://www.w3.org/2000/svg\" height=\"24px\"viewBox=\"0 0 24 24\"\n",
              "     width=\"24px\">\n",
              "    <g>\n",
              "        <path d=\"M19 3H5c-1.1 0-2 .9-2 2v14c0 1.1.9 2 2 2h14c1.1 0 2-.9 2-2V5c0-1.1-.9-2-2-2zM9 17H7v-7h2v7zm4 0h-2V7h2v10zm4 0h-2v-4h2v4z\"/>\n",
              "    </g>\n",
              "</svg>\n",
              "  </button>\n",
              "\n",
              "<style>\n",
              "  .colab-df-quickchart {\n",
              "      --bg-color: #E8F0FE;\n",
              "      --fill-color: #1967D2;\n",
              "      --hover-bg-color: #E2EBFA;\n",
              "      --hover-fill-color: #174EA6;\n",
              "      --disabled-fill-color: #AAA;\n",
              "      --disabled-bg-color: #DDD;\n",
              "  }\n",
              "\n",
              "  [theme=dark] .colab-df-quickchart {\n",
              "      --bg-color: #3B4455;\n",
              "      --fill-color: #D2E3FC;\n",
              "      --hover-bg-color: #434B5C;\n",
              "      --hover-fill-color: #FFFFFF;\n",
              "      --disabled-bg-color: #3B4455;\n",
              "      --disabled-fill-color: #666;\n",
              "  }\n",
              "\n",
              "  .colab-df-quickchart {\n",
              "    background-color: var(--bg-color);\n",
              "    border: none;\n",
              "    border-radius: 50%;\n",
              "    cursor: pointer;\n",
              "    display: none;\n",
              "    fill: var(--fill-color);\n",
              "    height: 32px;\n",
              "    padding: 0;\n",
              "    width: 32px;\n",
              "  }\n",
              "\n",
              "  .colab-df-quickchart:hover {\n",
              "    background-color: var(--hover-bg-color);\n",
              "    box-shadow: 0 1px 2px rgba(60, 64, 67, 0.3), 0 1px 3px 1px rgba(60, 64, 67, 0.15);\n",
              "    fill: var(--button-hover-fill-color);\n",
              "  }\n",
              "\n",
              "  .colab-df-quickchart-complete:disabled,\n",
              "  .colab-df-quickchart-complete:disabled:hover {\n",
              "    background-color: var(--disabled-bg-color);\n",
              "    fill: var(--disabled-fill-color);\n",
              "    box-shadow: none;\n",
              "  }\n",
              "\n",
              "  .colab-df-spinner {\n",
              "    border: 2px solid var(--fill-color);\n",
              "    border-color: transparent;\n",
              "    border-bottom-color: var(--fill-color);\n",
              "    animation:\n",
              "      spin 1s steps(1) infinite;\n",
              "  }\n",
              "\n",
              "  @keyframes spin {\n",
              "    0% {\n",
              "      border-color: transparent;\n",
              "      border-bottom-color: var(--fill-color);\n",
              "      border-left-color: var(--fill-color);\n",
              "    }\n",
              "    20% {\n",
              "      border-color: transparent;\n",
              "      border-left-color: var(--fill-color);\n",
              "      border-top-color: var(--fill-color);\n",
              "    }\n",
              "    30% {\n",
              "      border-color: transparent;\n",
              "      border-left-color: var(--fill-color);\n",
              "      border-top-color: var(--fill-color);\n",
              "      border-right-color: var(--fill-color);\n",
              "    }\n",
              "    40% {\n",
              "      border-color: transparent;\n",
              "      border-right-color: var(--fill-color);\n",
              "      border-top-color: var(--fill-color);\n",
              "    }\n",
              "    60% {\n",
              "      border-color: transparent;\n",
              "      border-right-color: var(--fill-color);\n",
              "    }\n",
              "    80% {\n",
              "      border-color: transparent;\n",
              "      border-right-color: var(--fill-color);\n",
              "      border-bottom-color: var(--fill-color);\n",
              "    }\n",
              "    90% {\n",
              "      border-color: transparent;\n",
              "      border-bottom-color: var(--fill-color);\n",
              "    }\n",
              "  }\n",
              "</style>\n",
              "\n",
              "  <script>\n",
              "    async function quickchart(key) {\n",
              "      const quickchartButtonEl =\n",
              "        document.querySelector('#' + key + ' button');\n",
              "      quickchartButtonEl.disabled = true;  // To prevent multiple clicks.\n",
              "      quickchartButtonEl.classList.add('colab-df-spinner');\n",
              "      try {\n",
              "        const charts = await google.colab.kernel.invokeFunction(\n",
              "            'suggestCharts', [key], {});\n",
              "      } catch (error) {\n",
              "        console.error('Error during call to suggestCharts:', error);\n",
              "      }\n",
              "      quickchartButtonEl.classList.remove('colab-df-spinner');\n",
              "      quickchartButtonEl.classList.add('colab-df-quickchart-complete');\n",
              "    }\n",
              "    (() => {\n",
              "      let quickchartButtonEl =\n",
              "        document.querySelector('#df-bd67c61f-06a7-4fde-bad8-66ad03db2161 button');\n",
              "      quickchartButtonEl.style.display =\n",
              "        google.colab.kernel.accessAllowed ? 'block' : 'none';\n",
              "    })();\n",
              "  </script>\n",
              "</div>\n",
              "\n",
              "    </div>\n",
              "  </div>\n"
            ],
            "application/vnd.google.colaboratory.intrinsic+json": {
              "type": "dataframe",
              "summary": "{\n  \"name\": \"data_analisis_df\",\n  \"rows\": 8,\n  \"fields\": [\n    {\n      \"column\": \"users\",\n      \"properties\": {\n        \"dtype\": \"number\",\n        \"std\": 15200.31376005359,\n        \"min\": 9.0,\n        \"max\": 43893.0,\n        \"num_unique_values\": 8,\n        \"samples\": [\n          1995.7225806451613,\n          233.0,\n          155.0\n        ],\n        \"semantic_type\": \"\",\n        \"description\": \"\"\n      }\n    },\n    {\n      \"column\": \"bounceRate\",\n      \"properties\": {\n        \"dtype\": \"number\",\n        \"std\": 53.83072560791259,\n        \"min\": 0.0,\n        \"max\": 155.0,\n        \"num_unique_values\": 7,\n        \"samples\": [\n          155.0,\n          31.92598204567742,\n          62.401881384999996\n        ],\n        \"semantic_type\": \"\",\n        \"description\": \"\"\n      }\n    },\n    {\n      \"column\": \"pageviews\",\n      \"properties\": {\n        \"dtype\": \"number\",\n        \"std\": 28953.242110293875,\n        \"min\": 155.0,\n        \"max\": 83593.0,\n        \"num_unique_values\": 8,\n        \"samples\": [\n          3607.174193548387,\n          431.0,\n          155.0\n        ],\n        \"semantic_type\": \"\",\n        \"description\": \"\"\n      }\n    },\n    {\n      \"column\": \"pageviewsPerSession\",\n      \"properties\": {\n        \"dtype\": \"number\",\n        \"std\": 97.99796154019906,\n        \"min\": 0.0,\n        \"max\": 268.8333333,\n        \"num_unique_values\": 7,\n        \"samples\": [\n          155.0,\n          16.20428365475484,\n          22.19444444\n        ],\n        \"semantic_type\": \"\",\n        \"description\": \"\"\n      }\n    },\n    {\n      \"column\": \"avgTimeOnPage\",\n      \"properties\": {\n        \"dtype\": \"number\",\n        \"std\": 143.34999043768462,\n        \"min\": 2.814914645,\n        \"max\": 449.8971963,\n        \"num_unique_values\": 8,\n        \"samples\": [\n          75.42835683783872,\n          44.72093023,\n          155.0\n        ],\n        \"semantic_type\": \"\",\n        \"description\": \"\"\n      }\n    }\n  ]\n}"
            }
          },
          "metadata": {},
          "execution_count": 11
        }
      ]
    },
    {
      "cell_type": "markdown",
      "source": [
        "*   Berdasarkan rangkuman parameter statistik di atas, dapat diambil informasi yaitu jumlah users terbagi berdasarkan bacaan terhadap pageTittle sebesar 155 judul, rata-rata jumlah pengguna sebesar 1996, users paling sedikit berjumlah 9, dan user paling banyak berjumlah 43893.\n",
        "*   Rata-rata bounce rate dari tiap pageTittle sekitar 32%, nilai dari minimum bounce rate sebesar 0, dan nilai dari maksimum bounce rate sebesar 100.\n",
        "*   Rata-rata jumlah pageviews dari setiap pageTittle sekitar 3607, nilai minimum dari pageviews sebesar 215, dan nilai maksimum dari pageviews sebesar 83593.\n",
        "*   Rata-rata pageviewes per sesi sekitar 16.\n",
        "*   Rata-rata waktu yang dihabisakan user berdasarkan tiap pageTittle sebesar 75, rata-rata minimum waktu yang dihabiskan user sekitar 3, dan rata-rata waktu maksimum yang dihabiskan user sekitar 450.\n",
        "\n",
        "\n",
        "\n"
      ],
      "metadata": {
        "id": "QwT2L5W-AGx5"
      }
    },
    {
      "cell_type": "code",
      "source": [
        "# Membuat histogram dari dataset yang ada\n",
        "plt.figure(figsize=(12, 8))\n",
        "data_analisis_df.hist()\n",
        "plt.tight_layout()\n",
        "plt.show()"
      ],
      "metadata": {
        "colab": {
          "base_uri": "https://localhost:8080/",
          "height": 504
        },
        "id": "iKiw_vX9B4Pe",
        "outputId": "9e843ba7-3f42-406d-b578-8d050f844c81"
      },
      "execution_count": null,
      "outputs": [
        {
          "output_type": "display_data",
          "data": {
            "text/plain": [
              "<Figure size 1200x800 with 0 Axes>"
            ]
          },
          "metadata": {}
        },
        {
          "output_type": "display_data",
          "data": {
            "text/plain": [
              "<Figure size 640x480 with 6 Axes>"
            ],
            "image/png": "[encoded data removed]"
          },
          "metadata": {}
        }
      ]
    },
    {
      "cell_type": "markdown",
      "source": [
        "*   Pada histogram users menggambarkan distribusi frekuensi jumlah pengguna yang mengunjungi situs web dimana sebagian besar pageTittle memiliki jumlah pengguna yang rendah, dengan jumlah pengguna yang sangat tinggi terjadi dalam kasus yang sangat sedikit. Ini menunjukkan distribusi yang miring ke kanan.\n",
        "*   Pada histogram bounceRate menampilkan seberapa sering pengunjung meninggalkan situs setelah melihat hanya satu halaman dimana beberapa pageTittle memiliki bounchRate yang rendah, tetapi ada beberapa sesi dengan bounce rate yang tinggi, menunjukkan bahwa sebagian besar pengunjung cenderung berinteraksi lebih lanjut dengan konten.\n",
        "*   Pada histogram pageviews mewakili total jumlah halaman yang dilihat pada pageTittle dimana sebagian besar situs web memiliki jumlah tampilan halaman yang rendah, dengan hanya sedikit situs yang memiliki jumlah tampilan halaman yang sangat tinggi. Ini menunjukkan distribusi miring ke kanan.\n",
        "*   Pada histogram PageviewsPerSession menggambarkan berapa banyak halaman yang dilihat dalam satu sesi rata-rata di pageTittle,dimana sebagian besar sesi menghasilkan tampilan halaman yang rendah, dengan sedikit sesi yang menghasilkan banyak tampilan halaman. Ini juga menunjukkan distribusi miring ke kanan.\n",
        "*   Pada histogram avgTimeOnPage menunjukkan berapa lama pengunjung rata-rata menghabiskan waktu di satu halaman sebelum beralih ke halaman lain, dimana Sebagian besar waktu rata-rata yang dihabiskan pada halaman relatif pendek, dengan hanya beberapa halaman yang memiliki waktu rata-rata yang lebih lama.\n",
        "\n",
        "\n",
        "\n",
        "\n"
      ],
      "metadata": {
        "id": "ROtimzWsZBAC"
      }
    },
    {
      "cell_type": "code",
      "source": [
        "# Ekplorasi jumlah pageview berdasarkan pageTittle\n",
        "data_analisis_df.groupby(\"pageTitle\")['pageviews'].sum().sort_values(ascending=False)"
      ],
      "metadata": {
        "colab": {
          "base_uri": "https://localhost:8080/",
          "height": 490
        },
        "id": "7QFtLgtrmc4X",
        "outputId": "90325028-ffe7-48ff-d9d6-e286c0188931"
      },
      "execution_count": null,
      "outputs": [
        {
          "output_type": "execute_result",
          "data": {
            "text/plain": [
              "pageTitle\n",
              "Bikin Lambe Turah Diomelin, Nih Si Seksi yang Lengket-lengket sama Gading    83593.0\n",
              "Heboh! Kiki Farel Transfer Uang Jajan Rp 1 Juta ke Selebgram Mimi Peri       74032.0\n",
              "Tak Sesuai Harapan, Barang Belanja Online Ini Bikin Ngakak                   54657.0\n",
              "Antar 'Tuyul', 7 Pengemudi Grab Dibekuk                                      47924.0\n",
              "Melihat Kantor Pelayanan Grab Driver Center                                  44072.0\n",
              "                                                                              ...   \n",
              "Jokowi Minta Pemda Selaras dengan Pusat, ini Respons Anies                     224.0\n",
              "Edan, Ponsel Ini Punya Baterai 13.000 mAh                                      215.0\n",
              "Jennifer Dunn dan Deretan Mobil Mewahnya                                       215.0\n",
              "Kasus Salah Baca Xiaomi Terulang Kembali                                       215.0\n",
              "Gempa Keras di Jakarta Terasa Lebih dari 1 Menit                               215.0\n",
              "Name: pageviews, Length: 150, dtype: float64"
            ],
            "text/html": [
              "<div>\n",
              "<style scoped>\n",
              "    .dataframe tbody tr th:only-of-type {\n",
              "        vertical-align: middle;\n",
              "    }\n",
              "\n",
              "    .dataframe tbody tr th {\n",
              "        vertical-align: top;\n",
              "    }\n",
              "\n",
              "    .dataframe thead th {\n",
              "        text-align: right;\n",
              "    }\n",
              "</style>\n",
              "<table border=\"1\" class=\"dataframe\">\n",
              "  <thead>\n",
              "    <tr style=\"text-align: right;\">\n",
              "      <th></th>\n",
              "      <th>pageviews</th>\n",
              "    </tr>\n",
              "    <tr>\n",
              "      <th>pageTitle</th>\n",
              "      <th></th>\n",
              "    </tr>\n",
              "  </thead>\n",
              "  <tbody>\n",
              "    <tr>\n",
              "      <th>Bikin Lambe Turah Diomelin, Nih Si Seksi yang Lengket-lengket sama Gading</th>\n",
              "      <td>83593.0</td>\n",
              "    </tr>\n",
              "    <tr>\n",
              "      <th>Heboh! Kiki Farel Transfer Uang Jajan Rp 1 Juta ke Selebgram Mimi Peri</th>\n",
              "      <td>74032.0</td>\n",
              "    </tr>\n",
              "    <tr>\n",
              "      <th>Tak Sesuai Harapan, Barang Belanja Online Ini Bikin Ngakak</th>\n",
              "      <td>54657.0</td>\n",
              "    </tr>\n",
              "    <tr>\n",
              "      <th>Antar 'Tuyul', 7 Pengemudi Grab Dibekuk</th>\n",
              "      <td>47924.0</td>\n",
              "    </tr>\n",
              "    <tr>\n",
              "      <th>Melihat Kantor Pelayanan Grab Driver Center</th>\n",
              "      <td>44072.0</td>\n",
              "    </tr>\n",
              "    <tr>\n",
              "      <th>...</th>\n",
              "      <td>...</td>\n",
              "    </tr>\n",
              "    <tr>\n",
              "      <th>Jokowi Minta Pemda Selaras dengan Pusat, ini Respons Anies</th>\n",
              "      <td>224.0</td>\n",
              "    </tr>\n",
              "    <tr>\n",
              "      <th>Edan, Ponsel Ini Punya Baterai 13.000 mAh</th>\n",
              "      <td>215.0</td>\n",
              "    </tr>\n",
              "    <tr>\n",
              "      <th>Jennifer Dunn dan Deretan Mobil Mewahnya</th>\n",
              "      <td>215.0</td>\n",
              "    </tr>\n",
              "    <tr>\n",
              "      <th>Kasus Salah Baca Xiaomi Terulang Kembali</th>\n",
              "      <td>215.0</td>\n",
              "    </tr>\n",
              "    <tr>\n",
              "      <th>Gempa Keras di Jakarta Terasa Lebih dari 1 Menit</th>\n",
              "      <td>215.0</td>\n",
              "    </tr>\n",
              "  </tbody>\n",
              "</table>\n",
              "<p>150 rows × 1 columns</p>\n",
              "</div><br><label><b>dtype:</b> float64</label>"
            ]
          },
          "metadata": {},
          "execution_count": 13
        }
      ]
    },
    {
      "cell_type": "markdown",
      "source": [
        "*   Dapat dilihat bahwa pageTitle yang memiliki pageviews terbanyak adalah \"Bikin Lambe Turah Diomelin, Nih Si Seksi yang Lengket-lengket sama Gading\" dengan jumlah pageview sebesar 83593.\n",
        "*   Sementara untuk pageTitle yang memiliki pageviews paling sedikit adalah \"Edan, Ponsel Ini Punya Baterai 13.000 mAh\", \"Jennifer Dunn dan Deretan Mobil Mewahnya\", \"Kasus Salah Baca Xiaomi Terulang Kembali\", dan \"Gempa Keras di Jakarta Terasa Lebih dari 1 Menit\"\n",
        "\n"
      ],
      "metadata": {
        "id": "awG4RsxVolEl"
      }
    },
    {
      "cell_type": "code",
      "source": [
        "# Ekplorasi jumlah bouncrate berdasarkan pageTittle\n",
        "data_analisis_df.groupby(\"pageTitle\")['bounceRate'].sum().sort_values(ascending=False)"
      ],
      "metadata": {
        "colab": {
          "base_uri": "https://localhost:8080/",
          "height": 490
        },
        "id": "lHvubKUCsMTI",
        "outputId": "88a9045e-7d1d-48ff-f202-a504dbc8967f"
      },
      "execution_count": null,
      "outputs": [
        {
          "output_type": "execute_result",
          "data": {
            "text/plain": [
              "pageTitle\n",
              "Gempa 6,4 SR Guncang Jakarta                                              150.0\n",
              "Polisi Tangkap Kernet yang Perkosa Siswi SMK Hingga Punya Anak            100.0\n",
              "Penampakan Rumah di Lebak yang Rusak Akibat Gempa Banten                  100.0\n",
              "Siswi SMK di Banyumas Bunuh Bayi yang Baru Dilahirkannya                  100.0\n",
              "Istri Jual Suami Demi Layanan Fantasi, Polisi: Motifnya Ekonomi           100.0\n",
              "                                                                          ...  \n",
              "Ibunda Idap Tumor Usus, Kiki Farel Berusaha Tetap Fokus Kerja               0.0\n",
              "Hujan Gerimis dan Tangisan Cucu saat Sys NS Dimasukkan ke Liang Lahat       0.0\n",
              "Gempa 6,4 SR Guncang Ibu Kota                                               0.0\n",
              "Gaya Rambut Pasha Ungu yang Pernah Jadi Tren, Mohawk Hingga Air Mancur      0.0\n",
              "Waspadai Hoax soal Gempa Banten, Termasuk Info dan Gambar Ini               0.0\n",
              "Name: bounceRate, Length: 150, dtype: float64"
            ],
            "text/html": [
              "<div>\n",
              "<style scoped>\n",
              "    .dataframe tbody tr th:only-of-type {\n",
              "        vertical-align: middle;\n",
              "    }\n",
              "\n",
              "    .dataframe tbody tr th {\n",
              "        vertical-align: top;\n",
              "    }\n",
              "\n",
              "    .dataframe thead th {\n",
              "        text-align: right;\n",
              "    }\n",
              "</style>\n",
              "<table border=\"1\" class=\"dataframe\">\n",
              "  <thead>\n",
              "    <tr style=\"text-align: right;\">\n",
              "      <th></th>\n",
              "      <th>bounceRate</th>\n",
              "    </tr>\n",
              "    <tr>\n",
              "      <th>pageTitle</th>\n",
              "      <th></th>\n",
              "    </tr>\n",
              "  </thead>\n",
              "  <tbody>\n",
              "    <tr>\n",
              "      <th>Gempa 6,4 SR Guncang Jakarta</th>\n",
              "      <td>150.0</td>\n",
              "    </tr>\n",
              "    <tr>\n",
              "      <th>Polisi Tangkap Kernet yang Perkosa Siswi SMK Hingga Punya Anak</th>\n",
              "      <td>100.0</td>\n",
              "    </tr>\n",
              "    <tr>\n",
              "      <th>Penampakan Rumah di Lebak yang Rusak Akibat Gempa Banten</th>\n",
              "      <td>100.0</td>\n",
              "    </tr>\n",
              "    <tr>\n",
              "      <th>Siswi SMK di Banyumas Bunuh Bayi yang Baru Dilahirkannya</th>\n",
              "      <td>100.0</td>\n",
              "    </tr>\n",
              "    <tr>\n",
              "      <th>Istri Jual Suami Demi Layanan Fantasi, Polisi: Motifnya Ekonomi</th>\n",
              "      <td>100.0</td>\n",
              "    </tr>\n",
              "    <tr>\n",
              "      <th>...</th>\n",
              "      <td>...</td>\n",
              "    </tr>\n",
              "    <tr>\n",
              "      <th>Ibunda Idap Tumor Usus, Kiki Farel Berusaha Tetap Fokus Kerja</th>\n",
              "      <td>0.0</td>\n",
              "    </tr>\n",
              "    <tr>\n",
              "      <th>Hujan Gerimis dan Tangisan Cucu saat Sys NS Dimasukkan ke Liang Lahat</th>\n",
              "      <td>0.0</td>\n",
              "    </tr>\n",
              "    <tr>\n",
              "      <th>Gempa 6,4 SR Guncang Ibu Kota</th>\n",
              "      <td>0.0</td>\n",
              "    </tr>\n",
              "    <tr>\n",
              "      <th>Gaya Rambut Pasha Ungu yang Pernah Jadi Tren, Mohawk Hingga Air Mancur</th>\n",
              "      <td>0.0</td>\n",
              "    </tr>\n",
              "    <tr>\n",
              "      <th>Waspadai Hoax soal Gempa Banten, Termasuk Info dan Gambar Ini</th>\n",
              "      <td>0.0</td>\n",
              "    </tr>\n",
              "  </tbody>\n",
              "</table>\n",
              "<p>150 rows × 1 columns</p>\n",
              "</div><br><label><b>dtype:</b> float64</label>"
            ]
          },
          "metadata": {},
          "execution_count": 14
        }
      ]
    },
    {
      "cell_type": "markdown",
      "source": [
        "*   Dapat dilihat bahwa pageTitle yang memiliki bounceRate tertinggi adalah \"Gempa 6,4 SR Guncang Jakarta\" ini berarti persentase users meninggalkan pagetitle setelah melihat halaman ini tanpa melakukan interaksi lebih lanjut (interaksi yang sangat minim).\n",
        "*   Sementara untuk pageTitle yang memiliki paling sedikit bounceRate adalah \"Ibunda Idap Tumor Usus, Kiki Farel Berusaha Tetap Fokus Kerja\t\", \"Hujan Gerimis dan Tangisan Cucu saat Sys NS Dimasukkan ke Liang Lahat\", \"Gempa 6,4 SR Guncang Ibu Kota\", \"Gaya Rambut Pasha Ungu yang Pernah Jadi Tren, Mohawk Hingga Air Mancur\", \"Waspadai Hoax soal Gempa Banten, Termasuk Info dan Gambar Ini\" ini berarti users masih melakukan interaksi lebih lanjut pada halaman website dan bisa dikatakan interaksi user di pageTitle ini sangat tinggi.\n",
        "\n"
      ],
      "metadata": {
        "id": "AW4qgLxluMIV"
      }
    },
    {
      "cell_type": "code",
      "source": [
        "# Memeriksa korelasi antara bounchRate dengan avgTimeOnPage\n",
        "data_analisis_df['bounceRate'].corr(data_analisis_df['avgTimeOnPage'])"
      ],
      "metadata": {
        "colab": {
          "base_uri": "https://localhost:8080/"
        },
        "id": "OYpIWVxFDAKa",
        "outputId": "50c501e5-77f5-4692-c4c2-27531a6f327c"
      },
      "execution_count": null,
      "outputs": [
        {
          "output_type": "execute_result",
          "data": {
            "text/plain": [
              "0.44709486984225755"
            ]
          },
          "metadata": {},
          "execution_count": 15
        }
      ]
    },
    {
      "cell_type": "markdown",
      "source": [
        "Nilai korelasi sebesar 0.447 menunjukkan adanya korelasi positif yang lemah antara kedua variabel (bounch rate dan avgtimeonpage) yang berarti ketika avg time on page meningkat, bounce rate cenderung juga meningkat, namun hubungan ini tidak terlalu kuat.\n",
        "\n",
        "Karena hubungan ini tidak terlalu kuat, kemungkinan masih ada faktor-faktor lain yang juga mempengaruhi kedua variabel tersebut dan meskipun ada kecenderungan positif hasil ini tidak bisa dijadikan prediksi akurat tentang satu variabel hanya berdasarkan variabel yang lain."
      ],
      "metadata": {
        "id": "NeGDvx2zgBx8"
      }
    },
    {
      "cell_type": "code",
      "source": [
        "# Memeriksa korelasi antara user dengan pageviews\n",
        "data_analisis_df['users'].corr(data_analisis_df['pageviews'])"
      ],
      "metadata": {
        "colab": {
          "base_uri": "https://localhost:8080/"
        },
        "id": "kKYAnR31Iv6h",
        "outputId": "f548e574-2ff9-4ae1-8515-3ad964fa364c"
      },
      "execution_count": null,
      "outputs": [
        {
          "output_type": "execute_result",
          "data": {
            "text/plain": [
              "0.7449928679241895"
            ]
          },
          "metadata": {},
          "execution_count": 16
        }
      ]
    },
    {
      "cell_type": "markdown",
      "source": [
        "Nilai korelasi sebesar 0.745 menunjukkan korelasi positif yang kuat antara jumlah pengguna dan jumlah tampilan halaman yang berarti ketika jumlah pengguna meningkat, jumlah tampilan halaman juga cenderung meningkat. Sebaliknya, jika jumlah pengguna menurun, jumlah tampilan halaman juga cenderung menurun."
      ],
      "metadata": {
        "id": "coV_PDDukrKh"
      }
    },
    {
      "cell_type": "markdown",
      "source": [
        "# **Visualization & Explanatory Analysis**\n",
        "\n",
        "\n",
        "Tahap ini merupakan proses analisis data yang bertujuan untuk membagikan beberapa insight yang menarik dari sebuah data dimana insight inilah yang akan digunakan untuk membantu menjawab dan memahami pertanyaan yang dihadapi."
      ],
      "metadata": {
        "id": "kU6LUlT8w2n7"
      }
    },
    {
      "cell_type": "markdown",
      "source": [
        "# **Jawaban dari pertanyaan 1**"
      ],
      "metadata": {
        "id": "kW4BqKo8xwlH"
      }
    },
    {
      "cell_type": "code",
      "source": [
        "# Dataframe yang berisi jumlah pelanggan berdasarkan sourceMedium\n",
        "data_analisis_df = pd.DataFrame({\n",
        "    'sourceMedium': ['Facebook / cpc', 'Google / cpc'],\n",
        "    'count': [150, 5]\n",
        "})\n",
        "\n",
        "# Membuat plot\n",
        "fig, ax = plt.subplots(figsize=(6, 4))\n",
        "colors = [\"#0000FF\", \"#75A4FF\"]\n",
        "\n",
        "sns.barplot(\n",
        "    x=\"sourceMedium\",\n",
        "    y=\"count\",\n",
        "    data=data_analisis_df,\n",
        "    palette=colors,\n",
        "    hue=\"sourceMedium\",\n",
        "    dodge=False,\n",
        "    ax=ax,\n",
        "    legend=False\n",
        ")\n",
        "\n",
        "# Menambahkan judul dan mengatur ukuran label\n",
        "ax.set_title(\"Jumlah Pagetitle berdasarkan sourceMedium\", loc=\"center\", fontsize=15)\n",
        "ax.set_xlabel(None)\n",
        "ax.set_ylabel(\"Jumlah Pelanggan\")\n",
        "ax.tick_params(axis='x', labelsize=12)\n",
        "ax.tick_params(axis='y', labelsize=10)\n",
        "\n",
        "# Menampilkan plot\n",
        "plt.show()"
      ],
      "metadata": {
        "colab": {
          "base_uri": "https://localhost:8080/",
          "height": 397
        },
        "id": "1hKHCcgrx17r",
        "outputId": "76c8d424-0e7c-46e4-9f11-e0015c882e75"
      },
      "execution_count": null,
      "outputs": [
        {
          "output_type": "display_data",
          "data": {
            "text/plain": [
              "<Figure size 600x400 with 1 Axes>"
            ],
            "image/png": "[encoded data removed]"
          },
          "metadata": {}
        }
      ]
    },
    {
      "cell_type": "markdown",
      "source": [
        "Berdasarkan diagram batang diatas, dapat dilihat bahwa Facebook merupakan sourcemedium/sumber media terbesar jika dibandingkan dengan Google. Ini menandakan bahwa sebagian besar judul berita yang disajikan bersumber dari Facebook.\n",
        "\n",
        "Selain itu, hal ini juga memastikan bahwa users lebih banyak menerima berita dari Facebook daripada Google jika dibandingkan secara total keseluruhan pengguna maupun berdasarkan pageview dari users yang dibuktikan lebih banyaknya pagetitle yang dihasilkan oleh Facebook."
      ],
      "metadata": {
        "id": "c34w8VVUluRI"
      }
    },
    {
      "cell_type": "markdown",
      "source": [
        "# **Jawaban dari pertanyaan 2**"
      ],
      "metadata": {
        "id": "zCdc3EER94qb"
      }
    },
    {
      "cell_type": "code",
      "source": [
        "# Dataframe yang berisi pageTitle dan pageviews\n",
        "data_analisis_df = pd.DataFrame({\n",
        "    'pageTitle': [\n",
        "        'Bikin Lambe Turah Diomelin, Nih Si Seksi yang Lengket-lengket sama Gading',\n",
        "        'Heboh! Kiki Farel Transfer Uang Jajan Rp 1 Juta ke Selebgram Mimi Peri',\n",
        "        'Tak Sesuai Harapan, Barang Belanja Online Ini Bikin Ngakak',\n",
        "        'Antar \"Tuyul\", 7 Pengemudi Grab Dibekuk',\n",
        "        'Melihat Kantor Pelayanan Grab Driver Center'\n",
        "    ],\n",
        "    'pageviews': [83593.0, 74032.0, 54657.0, 47924.0, 44072.0]\n",
        "})\n",
        "\n",
        "# Mengurutkan data berdasarkan bounceRate dalam urutan menurun\n",
        "top_pages = data_analisis_df.sort_values(by=\"pageviews\", ascending=False)\n",
        "\n",
        "# Create a custom palette with one dark green and the rest light green\n",
        "colors = [\"#008000\"] + [\"#99CC99\"] * (len(top_pages) - 1)\n",
        "\n",
        "# Membuat plot\n",
        "fig, ax = plt.subplots(figsize=(10, 6))\n",
        "sns.barplot(\n",
        "    x=\"pageviews\",\n",
        "    y=\"pageTitle\",\n",
        "    data=top_pages,\n",
        "    palette=colors,\n",
        "    hue=\"pageTitle\",\n",
        "    dodge=False,\n",
        "    ax=ax,\n",
        "    legend=False\n",
        ")\n",
        "\n",
        "# Menyesuaikan plot\n",
        "ax.set_title(\"Jumlah Pageview tertinggi berdasarkan Page Title\", loc=\"center\", fontsize=20)\n",
        "ax.set_ylabel(None)\n",
        "ax.set_xlabel(\"Pageviews\")\n",
        "ax.tick_params(axis='y', labelsize=12)\n",
        "ax.tick_params(axis='x', labelsize=10)\n",
        "\n",
        "# Menampilkan plot\n",
        "plt.show()"
      ],
      "metadata": {
        "colab": {
          "base_uri": "https://localhost:8080/",
          "height": 572
        },
        "id": "Pr1buPSY98Ga",
        "outputId": "2a995f0f-1661-452b-b6ea-23c50e626b24"
      },
      "execution_count": null,
      "outputs": [
        {
          "output_type": "display_data",
          "data": {
            "text/plain": [
              "<Figure size 1000x600 with 1 Axes>"
            ],
            "image/png": "[encoded data removed]"
          },
          "metadata": {}
        }
      ]
    },
    {
      "cell_type": "markdown",
      "source": [
        "Berdasarkan diagram batang diatas, \"Bikin Lambe Turah Diomelin, Nih Si Seksi yang lengket-lengket sama Gading\" merupakan pageTitle/judul halaman yang mendapatkan paling banyak view dibadingkan judul halaman lainnya.\n",
        "\n",
        "Selain itu, dari tiga teratas judul berita ini yang paling mendapatkan banyak pageviews adalah berita yang bertemakan tentang selebriti dan hiburan. Ketiga berita ini mendapatkan lebih banyak perhatian dari users daripada tema-tema lainnya yang dibuktikan dari lebih banyaknya pageviews pada ketiga berita ini."
      ],
      "metadata": {
        "id": "4vt0bfCNpEIu"
      }
    },
    {
      "cell_type": "code",
      "source": [
        "# Dataframe yang berisi pageTitle dan pageviews\n",
        "data_analisis_df = pd.DataFrame({\n",
        "    'pageTitle': [\n",
        "        'Jokowi Minta Pemda Selaras dengan Pusat, ini Respons Anies',\n",
        "        'Edan, Ponsel Ini Punya Baterai 13.000 mAh',\n",
        "        'Jennifer Dunn dan Deretan Mobil Mewahnya',\n",
        "        'Kasus Salah Baca Xiaomi Terulang Kembali',\n",
        "        'Gempa Keras di Jakarta Terasa Lebih dari 1 Menit'\n",
        "    ],\n",
        "    'pageviews': [224.0, 215.0, 215.0, 215.0, 215.0]\n",
        "})\n",
        "\n",
        "# Mengurutkan data berdasarkan tampilan halaman dalam urutan menurun\n",
        "top_pages = data_analisis_df.sort_values(by=\"pageviews\", ascending=False)\n",
        "\n",
        "# Buat palet khusus dengan satu warna merah tua dan sisanya merah muda\n",
        "colors = [\"#FF7F7F\"] * (len(top_pages) - 1) + [\"#FF0000\"]\n",
        "\n",
        "# Membuat plot\n",
        "fig, ax = plt.subplots(figsize=(10, 6))\n",
        "\n",
        "# Gunakan parameter rona alih-alih palet\n",
        "sns.barplot(\n",
        "    x=\"pageviews\",\n",
        "    y=\"pageTitle\",\n",
        "    data=top_pages,\n",
        "    hue=\"pageTitle\",  # Add this line\n",
        "    palette=dict(zip(top_pages['pageTitle'], colors)),  # Map colors to pageTitle\n",
        "    dodge=False,\n",
        "    ax=ax,\n",
        "    legend=False\n",
        ")\n",
        "\n",
        "# Menyesuaikan plot\n",
        "ax.set_title(\"Jumlah Pageview terendah berdasarkan Page Title\", loc=\"center\", fontsize=20)\n",
        "ax.set_ylabel(None)\n",
        "ax.set_xlabel(\"Pageviews\")\n",
        "ax.tick_params(axis='y', labelsize=12)\n",
        "ax.tick_params(axis='x', labelsize=10)\n",
        "\n",
        "# Menampilkan plot\n",
        "plt.show()"
      ],
      "metadata": {
        "colab": {
          "base_uri": "https://localhost:8080/",
          "height": 572
        },
        "id": "rw3TfanF_3mI",
        "outputId": "755d7191-f14c-4331-f9f1-88ab4db62f6a"
      },
      "execution_count": null,
      "outputs": [
        {
          "output_type": "display_data",
          "data": {
            "text/plain": [
              "<Figure size 1000x600 with 1 Axes>"
            ],
            "image/png": "[encoded data removed]"
          },
          "metadata": {}
        }
      ]
    },
    {
      "cell_type": "markdown",
      "source": [
        "Berdasarkan diagaram batang di atas, \"Edan, Ponsel Ini Punya Baterai 13.000 mAH\", \"Jeniffer Dunn dan Deretan mobil mewahnya\", \"Kasus salah baca Xiaomi terulang kembali\", dan \"Gempa Keras di Jakarta\" merupakan pageTitle/judul halaman yang mendapatkan paling sedikit view dibadingkan judul halaman lainnya.\n",
        "\n",
        "Keempat judul berita terbawah ini yang paling seedikit mendapatkan pageviews dimana berita-berita ini bertemakan tentang teknologi, gaya hidup mewah, dan bencana alam. Tema ini sepertinya kurang mendapatkan perhatian/minat dari users untuk membaca berita tersebut yang dibuktikan dari sedikitnya pageviews pada keempat berita ini.\n"
      ],
      "metadata": {
        "id": "HxKoSKIwum5g"
      }
    },
    {
      "cell_type": "markdown",
      "source": [
        "# **Jawaban dari pertanyaan 3**"
      ],
      "metadata": {
        "id": "D7C8BULw6Z8J"
      }
    },
    {
      "cell_type": "code",
      "source": [
        "# Dataframe yang berisi pageTitle dan bounceRate\n",
        "data_analisis_df = pd.DataFrame({\n",
        "    'pageTitle': [\n",
        "        'Gempa 6,4 SR Guncang Jakarta',\n",
        "        'Polisi Tangkap Kernet yang Perkosa Siswi SMK Hingga Punya Anak',\n",
        "        'Penampakan Rumah di Lebak yang Rusak Akibat Gempa Banten',\n",
        "        'Siswi SMK di Banyumas Bunuh Bayi yang Baru Dilahirkannya',\n",
        "        'Istri Jual Suami Demi Layanan Fantasi, Polisi: Motifnya Ekonomi'\n",
        "    ],\n",
        "    'bounceRate': [150.0, 100.0, 100.0, 100.0, 100.0]\n",
        "})\n",
        "\n",
        "# Mengurutkan data berdasarkan bounceRate dalam urutan menurun\n",
        "top_pages = data_analisis_df.sort_values(by=\"bounceRate\", ascending=False)\n",
        "\n",
        "# Buat palet khusus dengan satu warna hijau tua dan sisanya hijau muda\n",
        "colors = [\"#F6F609\"] + [\"#FBFB89\"] * (len(top_pages) - 1)\n",
        "\n",
        "# Create the plot\n",
        "fig, ax = plt.subplots(figsize=(10, 6))\n",
        "sns.barplot(\n",
        "    x=\"bounceRate\",\n",
        "    y=\"pageTitle\",\n",
        "    data=top_pages,\n",
        "    palette=colors,\n",
        "    hue=\"pageTitle\",\n",
        "    dodge=False,\n",
        "    ax=ax,\n",
        "    legend=False\n",
        ")\n",
        "\n",
        "# Menyesuaikan plot\n",
        "ax.set_title(\"Jumlah Bounce Rate tertinggi berdasarkan Page Title\", loc=\"center\", fontsize=20)\n",
        "ax.set_ylabel(None)\n",
        "ax.set_xlabel(\"Bounce Rate\")\n",
        "ax.tick_params(axis='y', labelsize=12)\n",
        "ax.tick_params(axis='x', labelsize=10)\n",
        "\n",
        "# Menampilkan plot\n",
        "plt.show()"
      ],
      "metadata": {
        "colab": {
          "base_uri": "https://localhost:8080/",
          "height": 572
        },
        "id": "tGaVcXwX0GiO",
        "outputId": "ae9c6662-7536-428d-c922-65ce6ee89ed5"
      },
      "execution_count": null,
      "outputs": [
        {
          "output_type": "display_data",
          "data": {
            "text/plain": [
              "<Figure size 1000x600 with 1 Axes>"
            ],
            "image/png": "[encoded data removed]"
          },
          "metadata": {}
        }
      ]
    },
    {
      "cell_type": "markdown",
      "source": [
        "Berdasarkan diagaram batang di atas, \"Gempa 6,4 SR Guncang Jakarta\" merupakan pagetitle/judul berita yang memiliki bounceRate tinggi, dimana users mengunjungi halaman tersebut tanpa mengklik apapun atau melihat halaman lain dari situs itu. Selain memiliki bounceRate tinggi, berita dengan tema bencana alam juga memiliki peminat baca yang sedikit (dibuktikan dari diagram batang sebelumnya).\n",
        "\n",
        "Sementara untuk keempat berita lainnya sebagai penyumbang bounceRate tertinggi, rata-rata dari tema ini adalah tentang kriminalitas dan bencana alam. Mungkin untuk tema berita ini masih dianggap kurang menarik bagi user sehingga tidak memancing user untuk mengklik berita lainnya yang ada diwebsite."
      ],
      "metadata": {
        "id": "QcuuI6U85NqV"
      }
    },
    {
      "cell_type": "markdown",
      "source": [
        "# **Jawaban dari pertanyaan 4**"
      ],
      "metadata": {
        "id": "PhqGVlVCSxZp"
      }
    },
    {
      "cell_type": "code",
      "source": [
        "# Membuat scatter plot\n",
        "plt.figure(figsize=(10, 6))\n",
        "sns.scatterplot(x='bounceRate', y='avgTimeOnPage', data=data_analisis_baru_df)\n",
        "\n",
        "# Menambahkan judul dan label\n",
        "plt.title('Korelasi antara Bounce Rate dan Average Time on Page', fontsize=16)\n",
        "plt.xlabel('Bounce Rate (%)', fontsize=12)\n",
        "plt.ylabel('Average Time on Page', fontsize=12)\n",
        "\n",
        "# Menambahkan garis regresi\n",
        "sns.regplot(x='bounceRate', y='avgTimeOnPage', data=data_analisis_baru_df, scatter=False, color='red')\n",
        "\n",
        "# Menampilkan plot\n",
        "plt.show()"
      ],
      "metadata": {
        "colab": {
          "base_uri": "https://localhost:8080/",
          "height": 570
        },
        "id": "-Yw5fZNFS1MY",
        "outputId": "870d77fd-e8db-4994-8096-504fcc18d8af"
      },
      "execution_count": null,
      "outputs": [
        {
          "output_type": "display_data",
          "data": {
            "text/plain": [
              "<Figure size 1000x600 with 1 Axes>"
            ],
            "image/png": "[encoded data removed]"
          },
          "metadata": {}
        }
      ]
    },
    {
      "cell_type": "markdown",
      "source": [
        "Dari hasil grafik Scatter Plot ini menunjukkan hubungan antara Bounce Rate dan Average Time on Page di sebuah website. Meskipun ada kecenderungan bahwa ketika Bounce Rate meningkat, waktu rata-rata yang dihabiskan di halaman juga meningkat, hubungan ini tidak terlalu kuat. Ini terlihat dari titik-titik data yang tersebar cukup jauh dari garis merah yang menunjukkan tren umum. Artinya, meskipun ada sedikit hubungan antara kedua hal ini, ada banyak faktor lain yang mempengaruhi, sehingga tidak selalu halaman dengan Bounce Rate tinggi akan memiliki waktu rata-rata yang tinggi, dan sebaliknya."
      ],
      "metadata": {
        "id": "TKv2qBXa84zP"
      }
    },
    {
      "cell_type": "markdown",
      "source": [
        "# **Jawaban dari pertanyaan 5**"
      ],
      "metadata": {
        "id": "In_um2z_o1B5"
      }
    },
    {
      "cell_type": "code",
      "source": [
        "# Membuat scatter plot\n",
        "plt.figure(figsize=(10, 6))\n",
        "sns.scatterplot(x='users', y='pageviews', data=data_analisis_baru_df)\n",
        "\n",
        "# Menambahkan judul dan label\n",
        "plt.title('Korelasi antara Users dan Pageviews', fontsize=16)\n",
        "plt.xlabel('Users (%)', fontsize=12)\n",
        "plt.ylabel('Pageviews', fontsize=12)\n",
        "\n",
        "# Menambahkan garis regresi\n",
        "sns.regplot(x='users', y='pageviews', data=data_analisis_baru_df, scatter=False, color='red')\n",
        "\n",
        "# Menampilkan plot\n",
        "plt.show()"
      ],
      "metadata": {
        "colab": {
          "base_uri": "https://localhost:8080/",
          "height": 570
        },
        "id": "ezijhfLYe5o1",
        "outputId": "a2b40145-f9ff-4e96-a74a-a19f6a6039d3"
      },
      "execution_count": null,
      "outputs": [
        {
          "output_type": "display_data",
          "data": {
            "text/plain": [
              "<Figure size 1000x600 with 1 Axes>"
            ],
            "image/png": "[encoded data removed]"
          },
          "metadata": {}
        }
      ]
    },
    {
      "cell_type": "markdown",
      "source": [
        "Dari hasil grafik scatter plot ini menunjukkan hubungan antara Users dan Pageviews di sebuah website. Dari grafik ini, terlihat bahwa semakin banyak jumlah pengguna (Users), semakin tinggi jumlah halaman yang dilihat (Pageviews). Garis merah yang naik menunjukkan adanya hubungan positif yang kuat antara kedua variabel ini, di mana peningkatan jumlah pengguna biasanya diikuti dengan peningkatan jumlah halaman yang dilihat. Namun, ada juga beberapa titik data yang menyimpang dari tren umum ini, menunjukkan bahwa dalam beberapa kasus, jumlah pengguna yang sama bisa menghasilkan jumlah Pageviews yang sangat bervariasi."
      ],
      "metadata": {
        "id": "WO18M7Va-1D7"
      }
    },
    {
      "cell_type": "markdown",
      "source": [
        "# **Kesimpulan**\n",
        "\n",
        "1.   Facebook merupakan sourcemedium/sumber media terbesar yang didasarkan pada grafik jumlah dataset pagetitle berdasarkan sourcemedium.\n",
        "2.   Berita dengan tema selebriti dan hiburan lebih banyak mendapatkan pageviews daripada berita dengan tema teknologi, gaya hidup mewah, dan bencana alam.\n",
        "3.   Berita dengan tema kriminalitas dan bencana alam masih dianggap kurang menarik bagi user sehingga kurang mengundang interaksi lainnya didalam website.\n",
        "4.   Terdapat hubungan lemah antara bounceRate dengan avgTimeOnPage yang menunjukkan ada sedikit kecenderungan bahwa halaman dengan bounce rate tinggi juga memiliki waktu kunjungan yang lebih lama, tetapi hubungan ini tidak terlalu kuat dan bervariasi banyak antar halaman.\n",
        "5.   Terdapat hubungan kuat antara users dan pageview yang menunjukkan bahwa ada hubungan positif antara jumlah pengguna dan jumlah tampilan halaman, tetapi hubungan ini tidak selalu konsisten untuk semua halaman.\n",
        "\n",
        "\n"
      ],
      "metadata": {
        "id": "uilokL8E_Nl_"
      }
    }
  ]
}